{
 "cells": [
  {
   "cell_type": "code",
   "execution_count": null,
   "id": "429b7b1c-0566-47a4-8c93-63ba8a8756a1",
   "metadata": {},
   "outputs": [],
   "source": []
  },
  {
   "cell_type": "code",
   "execution_count": 1,
   "id": "a644ed29",
   "metadata": {},
   "outputs": [
    {
     "name": "stdout",
     "output_type": "stream",
     "text": [
      "0    2061.0\n",
      "1    2035.8\n",
      "2    2028.5\n",
      "3    2022.5\n",
      "4    2016.4\n",
      "dtype: float64\n"
     ]
    }
   ],
   "source": [
    "import pandas as pd\n",
    "\n",
    "mountain_height = pd.Series([2061, 2035.8, 2028.5, 2022.5, 2016.4])\n",
    "\n",
    "print(mountain_height)"
   ]
  },
  {
   "cell_type": "code",
   "execution_count": 2,
   "id": "304dc608",
   "metadata": {},
   "outputs": [
    {
     "name": "stdout",
     "output_type": "stream",
     "text": [
      "Goverla           2061.0\n",
      "Brebenskyl        2035.8\n",
      "Pip_Ivan          2028.5\n",
      "Petros            2022.5\n",
      "Gutin_Tomnatik    2016.4\n",
      "Name: Height, m, dtype: float64\n"
     ]
    }
   ],
   "source": [
    "import pandas as pd\n",
    "\n",
    "mountains_height = pd.Series(\n",
    "    data=[2061, 2035.8, 2028.5, 2022.5, 2016.4],\n",
    "    index=[\"Goverla\", \"Brebenskyl\", \"Pip_Ivan\", \"Petros\", \"Gutin_Tomnatik\"],\n",
    "    name=\"Height, m\",\n",
    "    dtype=float,\n",
    ")\n",
    "\n",
    "print(mountains_height)"
   ]
  },
  {
   "cell_type": "code",
   "execution_count": 20,
   "id": "73e9126f",
   "metadata": {},
   "outputs": [
    {
     "name": "stdout",
     "output_type": "stream",
     "text": [
      "   [41]  Average population  Live births    Deaths  Natural change  \\\n",
      "0  1924            27400000      1211000  484880.0        726120.0   \n",
      "1  1925            28000000      1246000  531819.0        714181.0   \n",
      "2  1926            28700000      1258000  518656.0        739344.0   \n",
      "3  1927            29589000      1228000  579000.0        649000.0   \n",
      "4  1928            30251000      1178000  575000.0        603000.0   \n",
      "\n",
      "   Crude birth rate (per 1,000)  Crude death rate (per 1,000)  \\\n",
      "0                          43.3                          17.3   \n",
      "1                          43.4                          18.5   \n",
      "2                          42.5                          17.5   \n",
      "3                          40.6                          19.1   \n",
      "4                          38.1                          18.6   \n",
      "\n",
      "   Natural change (per 1,000)  Fertility rates  Life Expectancy (male)  \\\n",
      "0                        25.9              NaN                     NaN   \n",
      "1                        24.9             5.39                     NaN   \n",
      "2                        25.0              NaN                     NaN   \n",
      "3                        21.5              NaN                    43.3   \n",
      "4                        19.5              NaN                    44.6   \n",
      "\n",
      "   Life Expectancy (female)  \n",
      "0                       NaN  \n",
      "1                       NaN  \n",
      "2                       NaN  \n",
      "3                      46.8  \n",
      "4                      48.7  \n"
     ]
    }
   ],
   "source": [
    "import pandas as pd\n",
    "\n",
    "tmp = pd.read_html(\"https://en.wikipedia.org/wiki/Demographics_of_Ukraine\", attrs={\"class\": \"wikitable sortable\"})\n",
    "\n",
    "print(tmp[1].head())"
   ]
  },
  {
   "cell_type": "code",
   "execution_count": 9,
   "id": "d682a9ee",
   "metadata": {},
   "outputs": [
    {
     "name": "stdout",
     "output_type": "stream",
     "text": [
      "_________\n",
      "       [41]  Crude birth rate (per 1,000)\n",
      "0      1924                          43.3\n",
      "1      1925                          43.4\n",
      "2      1926                          42.5\n",
      "3      1927                          40.6\n",
      "4      1928                          38.1\n",
      "5      1929                          35.5\n",
      "6      1930                          33.0\n",
      "7      1931                          31.0\n",
      "8      1932                          24.7\n",
      "9      1933                          17.4\n",
      "10     1934                          18.1\n",
      "11     1935                          24.5\n",
      "12     1936                          28.3\n",
      "13     1937                          37.5\n",
      "14     1938                          33.6\n",
      "15     1939                          31.7\n",
      "16  1940(b)                          30.6\n",
      "(17, 2)\n"
     ]
    }
   ],
   "source": [
    "import pandas as pd\n",
    "\n",
    "tmp = pd.read_html(\"https://en.wikipedia.org/wiki/Demographics_of_Ukraine\", attrs={\"class\": \"wikitable sortable\"})\n",
    "df_ukrainian_after_ww = tmp[1]\n",
    "df_ukrainian_birth_rate_0 = pd.DataFrame(df_ukrainian_after_ww[\"[41]\"])\n",
    "df_ukrainian_birth_rate_1 = pd.DataFrame(df_ukrainian_after_ww[\"Crude birth rate (per 1,000)\"])\n",
    "df_ukrainian_birth_rate = pd.concat([df_ukrainian_birth_rate_0, df_ukrainian_birth_rate_1], axis=1)\n",
    "# print(tmp[1].head())\n",
    "print(\"_________\")\n",
    "print(df_ukrainian_birth_rate.to_string())\n",
    "print(df_ukrainian_birth_rate.shape)"
   ]
  },
  {
   "cell_type": "code",
   "execution_count": 19,
   "id": "d518f38c-5aa2-4657-9076-57e7bdbe9e28",
   "metadata": {},
   "outputs": [
    {
     "name": "stdout",
     "output_type": "stream",
     "text": [
      "1. Pierwsze wiersze tabeli\n",
      "                         regions  2011  2012  2013  2015  2017  2019  2021\n",
      "0  Autonomous Republic of Crimea  1.56  1.68  1.66     _     _     _     _\n",
      "1               Vinnytsia region  1.53  1.59  1.53   1.5  1.36   1.2  1.14\n",
      "2                   Volyn region  1.81  1.92  1.86  1.74  1.62  1.48  1.45\n",
      "3          Dnipropetrovsk region  1.44  1.52  1.51  1.48  1.29  1.11  1.03\n",
      "4                 Donetsk region  1.27  1.34  1.32     _     _     _     _\n",
      "________________________________________________________________________\n",
      "2. Liczba kolumn i wierszy:  (27, 8)\n"
     ]
    }
   ],
   "source": [
    "import pandas as pd\n",
    "excel_file = \"Fertility_rate.xlsx\"\n",
    "df = pd.read_excel(excel_file)\n",
    "print(\"1. Pierwsze wiersze tabeli:\")\n",
    "print(df.head())\n",
    "print(\"______________________________________________________________________________\")\n",
    "print(\"2. Liczba kolumn i wierszy: \", df.shape)\n",
    "print(\"______________________________________________________________________________\")\n",
    "print(\"3. Zastąpienie w tabeli wartościi NaN na _:\")\n",
    "print(\n",
    "\n"
   ]
  },
  {
   "cell_type": "code",
   "execution_count": 8,
   "id": "40427024-4f42-44bb-bc6c-3f3dbd124ce9",
   "metadata": {},
   "outputs": [
    {
     "name": "stdout",
     "output_type": "stream",
     "text": [
      "    Unnamed: 0                              A     B        C        D     E  \\\n",
      "0            1                        regions  2011  2012.00  2013.00  2015   \n",
      "1            2  Autonomous Republic of Crimea  1.56     1.68     1.66     _   \n",
      "2            3               Vinnytsia region  1.53     1.59     1.53   1.5   \n",
      "3            4                   Volyn region  1.81     1.92     1.86  1.74   \n",
      "4            5          Dnipropetrovsk region  1.44     1.52     1.51  1.48   \n",
      "..         ...                            ...   ...      ...      ...   ...   \n",
      "95          96                            NaN   NaN      NaN      NaN   NaN   \n",
      "96          97                            NaN   NaN      NaN      NaN   NaN   \n",
      "97          98                            NaN   NaN      NaN      NaN   NaN   \n",
      "98          99                            NaN   NaN      NaN      NaN   NaN   \n",
      "99         100                            NaN   NaN      NaN      NaN   NaN   \n",
      "\n",
      "       F     G     H   I  ...   Q   R   S   T   U   V   W   X   Y   Z  \n",
      "0   2017  2019  2021 NaN  ... NaN NaN NaN NaN NaN NaN NaN NaN NaN NaN  \n",
      "1      _     _     _ NaN  ... NaN NaN NaN NaN NaN NaN NaN NaN NaN NaN  \n",
      "2   1.36   1.2  1.14 NaN  ... NaN NaN NaN NaN NaN NaN NaN NaN NaN NaN  \n",
      "3   1.62  1.48  1.45 NaN  ... NaN NaN NaN NaN NaN NaN NaN NaN NaN NaN  \n",
      "4   1.29  1.11  1.03 NaN  ... NaN NaN NaN NaN NaN NaN NaN NaN NaN NaN  \n",
      "..   ...   ...   ...  ..  ...  ..  ..  ..  ..  ..  ..  ..  ..  ..  ..  \n",
      "95   NaN   NaN   NaN NaN  ... NaN NaN NaN NaN NaN NaN NaN NaN NaN NaN  \n",
      "96   NaN   NaN   NaN NaN  ... NaN NaN NaN NaN NaN NaN NaN NaN NaN NaN  \n",
      "97   NaN   NaN   NaN NaN  ... NaN NaN NaN NaN NaN NaN NaN NaN NaN NaN  \n",
      "98   NaN   NaN   NaN NaN  ... NaN NaN NaN NaN NaN NaN NaN NaN NaN NaN  \n",
      "99   NaN   NaN   NaN NaN  ... NaN NaN NaN NaN NaN NaN NaN NaN NaN NaN  \n",
      "\n",
      "[100 rows x 27 columns]\n",
      "_________\n"
     ]
    }
   ],
   "source": [
    "import pandas as pd\n",
    "\n",
    "tmp = pd.read_html(\"https://docs.google.com/spreadsheets/d/12tK5jH3c54cVdLw63KgYHrf7NFBPDbCk/edit#gid=870827323\")\n",
    "\n",
    "print(tmp[0])\n",
    "print(\"_________\")\n",
    "\n"
   ]
  },
  {
   "cell_type": "code",
   "execution_count": null,
   "id": "6eab5549-f56d-4ea1-9f86-eb86cceaa8b6",
   "metadata": {},
   "outputs": [],
   "source": []
  }
 ],
 "metadata": {
  "kernelspec": {
   "display_name": "Python 3 (ipykernel)",
   "language": "python",
   "name": "python3"
  },
  "language_info": {
   "codemirror_mode": {
    "name": "ipython",
    "version": 3
   },
   "file_extension": ".py",
   "mimetype": "text/x-python",
   "name": "python",
   "nbconvert_exporter": "python",
   "pygments_lexer": "ipython3",
   "version": "3.11.8"
  }
 },
 "nbformat": 4,
 "nbformat_minor": 5
}
