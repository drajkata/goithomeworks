{
 "cells": [
  {
   "cell_type": "code",
   "execution_count": 28,
   "id": "9bd501a7-8286-4491-a674-6abe3e220824",
   "metadata": {},
   "outputs": [],
   "source": [
    "from surprise import Dataset, SVD, SVDpp, NMF\n",
    "from surprise.model_selection import cross_validate, GridSearchCV"
   ]
  },
  {
   "cell_type": "markdown",
   "id": "0e4fae54",
   "metadata": {},
   "source": [
    "Wczytanie danych MovieLens:"
   ]
  },
  {
   "cell_type": "code",
   "execution_count": 29,
   "id": "7f498a2a",
   "metadata": {},
   "outputs": [],
   "source": [
    "data = Dataset.load_builtin(\"ml-100k\", prompt=False)"
   ]
  },
  {
   "cell_type": "markdown",
   "id": "f0b8c37e",
   "metadata": {},
   "source": [
    "Wybór najlepszych parametrów za pomocą walidacji krzyżowej dla SVD:"
   ]
  },
  {
   "cell_type": "code",
   "execution_count": 30,
   "id": "84fe2036",
   "metadata": {},
   "outputs": [
    {
     "name": "stdout",
     "output_type": "stream",
     "text": [
      "Najlepszy wynik RMSE dla SVD: 0.9570832131437009\n",
      "Najlepsze parametry dla SVD: {'n_epochs': 30, 'lr_all': 0.005, 'reg_all': 0.4}\n",
      "Evaluating RMSE, MAE of algorithm SVD on 3 split(s).\n",
      "\n",
      "                  Fold 1  Fold 2  Fold 3  Mean    Std     \n",
      "RMSE (testset)    0.9670  0.9546  0.9518  0.9578  0.0066  \n",
      "MAE (testset)     0.7732  0.7640  0.7629  0.7667  0.0046  \n",
      "Fit time          0.74    0.72    0.71    0.72    0.01    \n",
      "Test time         0.13    0.08    0.13    0.11    0.02    \n"
     ]
    }
   ],
   "source": [
    "param_grid_svd  = {\"n_epochs\": [20, 30], \"lr_all\": [0.002, 0.005], \"reg_all\": [0.4, 0.6]}\n",
    "gs_svd = GridSearchCV(SVD, param_grid_svd, measures=['rmse'], cv=3)\n",
    "gs_svd.fit(data)\n",
    "\n",
    "print(\"Najlepszy wynik RMSE dla SVD:\", gs_svd.best_score[\"rmse\"])\n",
    "print(\"Najlepsze parametry dla SVD:\", gs_svd.best_params[\"rmse\"])\n",
    "\n",
    "algo_svd = SVD(n_epochs=gs_svd.best_params[\"rmse\"][\"n_epochs\"],\n",
    "               lr_all=gs_svd.best_params[\"rmse\"][\"lr_all\"],\n",
    "               reg_all=gs_svd.best_params[\"rmse\"][\"reg_all\"])\n",
    "results_svd = cross_validate(algo_svd, data, measures=[\"RMSE\", \"MAE\"], cv=3, verbose=True)"
   ]
  },
  {
   "cell_type": "markdown",
   "id": "948ba568",
   "metadata": {},
   "source": [
    "Wybór najlepszych parametrów za pomocą walidacji krzyżowej dla SVD++:"
   ]
  },
  {
   "cell_type": "code",
   "execution_count": 31,
   "id": "e61cb6fd",
   "metadata": {},
   "outputs": [
    {
     "name": "stdout",
     "output_type": "stream",
     "text": [
      "Najlepszy wynik RMSE dla SVD++: 0.9576985115791095\n",
      "Najlepsze parametry dla SVD++: {'n_epochs': 30, 'lr_all': 0.005, 'reg_all': 0.4}\n",
      "Evaluating RMSE, MAE of algorithm SVDpp on 3 split(s).\n",
      "\n",
      "                  Fold 1  Fold 2  Fold 3  Mean    Std     \n",
      "RMSE (testset)    0.9565  0.9577  0.9589  0.9577  0.0010  \n",
      "MAE (testset)     0.7654  0.7657  0.7689  0.7667  0.0016  \n",
      "Fit time          11.30   11.40   13.24   11.98   0.89    \n",
      "Test time         3.02    2.79    4.24    3.35    0.64    \n"
     ]
    }
   ],
   "source": [
    "param_grid_svdpp = {\"n_epochs\": [20, 30], \"lr_all\": [0.002, 0.005], \"reg_all\": [0.4, 0.6]}\n",
    "gs_svdpp = GridSearchCV(SVDpp, param_grid_svdpp, measures=['rmse'], cv=3)\n",
    "gs_svdpp.fit(data)\n",
    "\n",
    "print(\"Najlepszy wynik RMSE dla SVD++:\", gs_svdpp.best_score[\"rmse\"])\n",
    "print(\"Najlepsze parametry dla SVD++:\", gs_svdpp.best_params[\"rmse\"])\n",
    "\n",
    "algo_svdpp = SVDpp(n_epochs=gs_svdpp.best_params[\"rmse\"][\"n_epochs\"],\n",
    "                   lr_all=gs_svdpp.best_params[\"rmse\"][\"lr_all\"],\n",
    "                   reg_all=gs_svdpp.best_params[\"rmse\"][\"reg_all\"])\n",
    "results_svdpp = cross_validate(algo_svdpp, data, measures=[\"RMSE\", \"MAE\"], cv=3, verbose=True)"
   ]
  },
  {
   "cell_type": "markdown",
   "id": "3325685c",
   "metadata": {},
   "source": [
    "Wybór najlepszych parametrów za pomocą walidacji krzyżowej dla NMF:"
   ]
  },
  {
   "cell_type": "code",
   "execution_count": 32,
   "id": "41682774",
   "metadata": {},
   "outputs": [
    {
     "name": "stdout",
     "output_type": "stream",
     "text": [
      "Najlepszy wynik RMSE dla NMF: 1.030749741308629\n",
      "Najlepsze parametry dla NMF: {'n_epochs': 30, 'n_factors': 15, 'reg_pu': 0.4, 'reg_qi': 0.4}\n",
      "Evaluating RMSE, MAE of algorithm NMF on 3 split(s).\n",
      "\n",
      "                  Fold 1  Fold 2  Fold 3  Mean    Std     \n",
      "RMSE (testset)    1.0316  1.0265  1.0342  1.0308  0.0032  \n",
      "MAE (testset)     0.8452  0.8415  0.8487  0.8451  0.0030  \n",
      "Fit time          0.62    0.54    0.58    0.58    0.03    \n",
      "Test time         0.08    0.07    0.17    0.10    0.05    \n"
     ]
    }
   ],
   "source": [
    "param_grid_nmf = {\"n_epochs\": [20, 30], \"n_factors\": [15, 20], \"reg_pu\": [0.4, 0.6], \"reg_qi\": [0.4, 0.6]}\n",
    "gs_nmf = GridSearchCV(NMF, param_grid_nmf, measures=[\"rmse\"], cv=3)\n",
    "gs_nmf.fit(data)\n",
    "\n",
    "print(\"Najlepszy wynik RMSE dla NMF:\", gs_nmf.best_score[\"rmse\"])\n",
    "print(\"Najlepsze parametry dla NMF:\", gs_nmf.best_params[\"rmse\"])\n",
    "\n",
    "algo_nmf = NMF(n_epochs=gs_nmf.best_params[\"rmse\"][\"n_epochs\"],\n",
    "               n_factors=gs_nmf.best_params[\"rmse\"][\"n_factors\"],\n",
    "               reg_pu=gs_nmf.best_params[\"rmse\"][\"reg_pu\"],\n",
    "               reg_qi=gs_nmf.best_params[\"rmse\"][\"reg_qi\"])\n",
    "results_nmf = cross_validate(algo_nmf, data, measures=[\"RMSE\", \"MAE\"], cv=3, verbose=True)"
   ]
  },
  {
   "cell_type": "markdown",
   "id": "260d7b1d",
   "metadata": {},
   "source": [
    "Porównanie wyników:"
   ]
  },
  {
   "cell_type": "code",
   "execution_count": 33,
   "id": "27697eb0",
   "metadata": {},
   "outputs": [
    {
     "name": "stdout",
     "output_type": "stream",
     "text": [
      "Wyniki SVD: {'test_rmse': array([0.96704036, 0.95463527, 0.95176279]), 'test_mae': array([0.77319011, 0.7640379 , 0.76285512]), 'fit_time': (0.7428019046783447, 0.7173271179199219, 0.7088890075683594), 'test_time': (0.1329360008239746, 0.07993221282958984, 0.12696075439453125)}\n",
      "Wyniki SVD++: {'test_rmse': array([0.95647418, 0.95770759, 0.95893729]), 'test_mae': array([0.76538868, 0.76567123, 0.76893514]), 'fit_time': (11.29556679725647, 11.403227806091309, 13.240079641342163), 'test_time': (3.0221307277679443, 2.7872860431671143, 4.240089178085327)}\n",
      "Wyniki NMF: {'test_rmse': array([1.03164019, 1.02654153, 1.03415812]), 'test_mae': array([0.84521749, 0.84145097, 0.84868647]), 'fit_time': (0.6191058158874512, 0.5445289611816406, 0.5824503898620605), 'test_time': (0.07557058334350586, 0.06817746162414551, 0.16916370391845703)}\n",
      "SVD: RMSE=0.9578128065891307, MAE=0.7666943762114627\n",
      "SVD++: RMSE=0.9577063514226026, MAE=0.7666650161248049\n",
      "NMF: RMSE=1.0307799454729485, MAE=0.8451183082132756\n"
     ]
    }
   ],
   "source": [
    "print(\"Wyniki SVD:\", results_svd)\n",
    "print(\"Wyniki SVD++:\", results_svdpp)\n",
    "print(\"Wyniki NMF:\", results_nmf)\n",
    "\n",
    "mean_rmse_svd = results_svd[\"test_rmse\"].mean()\n",
    "mean_mae_svd = results_svd[\"test_mae\"].mean()\n",
    "\n",
    "mean_rmse_svdpp = results_svdpp[\"test_rmse\"].mean()\n",
    "mean_mae_svdpp = results_svdpp[\"test_mae\"].mean()\n",
    "\n",
    "mean_rmse_nmf = results_nmf[\"test_rmse\"].mean()\n",
    "mean_mae_nmf = results_nmf[\"test_mae\"].mean()\n",
    "\n",
    "print(f\"SVD: RMSE={mean_rmse_svd}, MAE={mean_mae_svd}\")\n",
    "print(f\"SVD++: RMSE={mean_rmse_svdpp}, MAE={mean_mae_svdpp}\")\n",
    "print(f\"NMF: RMSE={mean_rmse_nmf}, MAE={mean_mae_nmf}\")"
   ]
  }
 ],
 "metadata": {
  "kernelspec": {
   "display_name": "Python 3",
   "language": "python",
   "name": "python3"
  },
  "language_info": {
   "codemirror_mode": {
    "name": "ipython",
    "version": 3
   },
   "file_extension": ".py",
   "mimetype": "text/x-python",
   "name": "python",
   "nbconvert_exporter": "python",
   "pygments_lexer": "ipython3",
   "version": "3.11.9"
  }
 },
 "nbformat": 4,
 "nbformat_minor": 5
}
