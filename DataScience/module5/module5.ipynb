{
 "cells": [
  {
   "cell_type": "code",
   "execution_count": 34,
   "id": "c0c058ea",
   "metadata": {},
   "outputs": [],
   "source": [
    "import pandas as pd\n",
    "import numpy as np\n",
    "from sklearn.model_selection import train_test_split\n",
    "from pathlib import Path\n",
    "from sklearn.svm import SVC\n",
    "from sklearn.metrics import classification_report, accuracy_score\n",
    "from sklearn.ensemble import RandomForestClassifier\n",
    "from scipy.stats import kurtosis, skew"
   ]
  },
  {
   "cell_type": "markdown",
   "id": "32552ae0",
   "metadata": {},
   "source": [
    "# Klasyfikacja danych przy użyciu algorytmów SVM oraz lasu losowego\n",
    "## Wersja z użyciem odczytów akcelerometru jako charakterystyki\n",
    "Wczytanie danych:"
   ]
  },
  {
   "cell_type": "code",
   "execution_count": 23,
   "id": "63f427a9",
   "metadata": {},
   "outputs": [],
   "source": [
    "def load_data(folder_path, label):\n",
    "    data = []\n",
    "    for file_path in Path(folder_path).iterdir():\n",
    "        if file_path.name.endswith(\".csv\"):\n",
    "            df = pd.read_csv(file_path)\n",
    "            features = df.values.flatten()\n",
    "            data.append(np.append(features, label))\n",
    "    return np.array(data)\n",
    "\n",
    "folders = {\n",
    "    0: \"data/idle\",\n",
    "    1: \"data/running\",\n",
    "    2: \"data/stairs\",\n",
    "    3: \"data/walking\",\n",
    "}\n",
    "\n",
    "data = []\n",
    "for label, path in folders.items():\n",
    "    folder_data = load_data(path, label)\n",
    "    if folder_data.size > 0:\n",
    "        data.append(folder_data)\n",
    "\n",
    "data = np.vstack(data)\n"
   ]
  },
  {
   "cell_type": "markdown",
   "id": "4050175f",
   "metadata": {},
   "source": [
    "Przygotowywanie danych:"
   ]
  },
  {
   "cell_type": "code",
   "execution_count": 24,
   "id": "20695ad3",
   "metadata": {},
   "outputs": [],
   "source": [
    "X = data[:, :-1]\n",
    "y = data[:, -1]\n",
    "\n",
    "X_train, X_test, y_train, y_test = train_test_split(X, y, test_size=0.2, random_state=92)"
   ]
  },
  {
   "cell_type": "markdown",
   "id": "245b3ee2",
   "metadata": {},
   "source": [
    "Trenowanie modeli i ich ewaluacja:"
   ]
  },
  {
   "cell_type": "code",
   "execution_count": 35,
   "id": "3fbe48c2",
   "metadata": {},
   "outputs": [
    {
     "name": "stdout",
     "output_type": "stream",
     "text": [
      "SVM Classifier Report:\n",
      "              precision    recall  f1-score   support\n",
      "\n",
      "         0.0       1.00      1.00      1.00       185\n",
      "         1.0       1.00      1.00      1.00       678\n",
      "         2.0       0.86      0.53      0.65        34\n",
      "         3.0       0.96      0.99      0.98       396\n",
      "\n",
      "    accuracy                           0.99      1293\n",
      "   macro avg       0.95      0.88      0.91      1293\n",
      "weighted avg       0.98      0.99      0.98      1293\n",
      "\n",
      "SVM Accuracy: 0.9853054911059551\n",
      "\n",
      "\n",
      "Random Forest Classifier Report:\n",
      "              precision    recall  f1-score   support\n",
      "\n",
      "         0.0       1.00      1.00      1.00       185\n",
      "         1.0       1.00      1.00      1.00       678\n",
      "         2.0       0.00      0.00      0.00        34\n",
      "         3.0       0.92      1.00      0.96       396\n",
      "\n",
      "    accuracy                           0.97      1293\n",
      "   macro avg       0.73      0.75      0.74      1293\n",
      "weighted avg       0.95      0.97      0.96      1293\n",
      "\n",
      "Random Forest Accuracy: 0.9737045630317092\n"
     ]
    },
    {
     "name": "stderr",
     "output_type": "stream",
     "text": [
      "c:\\Users\\kdrajok\\AppData\\Local\\Programs\\Python\\Python311\\Lib\\site-packages\\sklearn\\metrics\\_classification.py:1517: UndefinedMetricWarning: Precision is ill-defined and being set to 0.0 in labels with no predicted samples. Use `zero_division` parameter to control this behavior.\n",
      "  _warn_prf(average, modifier, f\"{metric.capitalize()} is\", len(result))\n",
      "c:\\Users\\kdrajok\\AppData\\Local\\Programs\\Python\\Python311\\Lib\\site-packages\\sklearn\\metrics\\_classification.py:1517: UndefinedMetricWarning: Precision is ill-defined and being set to 0.0 in labels with no predicted samples. Use `zero_division` parameter to control this behavior.\n",
      "  _warn_prf(average, modifier, f\"{metric.capitalize()} is\", len(result))\n",
      "c:\\Users\\kdrajok\\AppData\\Local\\Programs\\Python\\Python311\\Lib\\site-packages\\sklearn\\metrics\\_classification.py:1517: UndefinedMetricWarning: Precision is ill-defined and being set to 0.0 in labels with no predicted samples. Use `zero_division` parameter to control this behavior.\n",
      "  _warn_prf(average, modifier, f\"{metric.capitalize()} is\", len(result))\n"
     ]
    }
   ],
   "source": [
    "svm_model = SVC()\n",
    "svm_model.fit(X_train, y_train)\n",
    "y_pred_svm = svm_model.predict(X_test)\n",
    "print(\"SVM Classifier Report:\")\n",
    "print(classification_report(y_test, y_pred_svm))\n",
    "print(\"SVM Accuracy:\", accuracy_score(y_test, y_pred_svm))\n",
    "\n",
    "rf_model = RandomForestClassifier(n_estimators=100)\n",
    "rf_model.fit(X_train, y_train)\n",
    "y_pred_rf = rf_model.predict(X_test)\n",
    "print(\"\\n\\nRandom Forest Classifier Report:\")\n",
    "print(classification_report(y_test, y_pred_rf))\n",
    "print(\"Random Forest Accuracy:\", accuracy_score(y_test, y_pred_rf))"
   ]
  },
  {
   "cell_type": "markdown",
   "id": "7c1e4446",
   "metadata": {},
   "source": [
    "## Wersja z cechami domeny czasowej\n",
    "Wczytanie danych:"
   ]
  },
  {
   "cell_type": "code",
   "execution_count": 36,
   "id": "24e0087b",
   "metadata": {},
   "outputs": [],
   "source": [
    "def extract_features(file_path):\n",
    "    df = pd.read_csv(file_path)\n",
    "    features = []\n",
    "    for axis in [\"accelerometer_X\", \"accelerometer_Y\", \"accelerometer_Z\"]:\n",
    "        data = df[axis]\n",
    "        features.extend([\n",
    "            data.mean(),\n",
    "            data.median(),\n",
    "            data.std(),\n",
    "            data.var(),\n",
    "            kurtosis(data),\n",
    "            skew(data),\n",
    "            data.min(),\n",
    "            data.max(),\n",
    "            np.sqrt(np.mean(data**2)),\n",
    "            np.sum(data**2)\n",
    "        ])\n",
    "    return np.array(features)\n",
    "\n",
    "def load_data(folder_path, label):\n",
    "    data = []\n",
    "    for file_path in Path(folder_path).iterdir():\n",
    "        if file_path.name.endswith(\".csv\"):\n",
    "            features = extract_features(file_path)\n",
    "            data.append(np.append(features, label))\n",
    "    return np.array(data)\n",
    "\n",
    "folders = {\n",
    "    0: \"data/idle\",\n",
    "    1: \"data/running\",\n",
    "    2: \"data/stairs\",\n",
    "    3: \"data/walking\",\n",
    "}\n",
    "\n",
    "data = []\n",
    "for label, path in folders.items():\n",
    "    folder_data = load_data(path, label)\n",
    "    if folder_data.size > 0:\n",
    "        data.append(folder_data)\n",
    "\n",
    "data = np.vstack(data)"
   ]
  },
  {
   "cell_type": "markdown",
   "id": "89c18778",
   "metadata": {},
   "source": [
    "Przygotowywanie danych:"
   ]
  },
  {
   "cell_type": "code",
   "execution_count": 37,
   "id": "253e333e",
   "metadata": {},
   "outputs": [],
   "source": [
    "X = data[:, :-1]\n",
    "y = data[:, -1]\n",
    "\n",
    "X_train, X_test, y_train, y_test = train_test_split(X, y, test_size=0.2, random_state=92)"
   ]
  },
  {
   "cell_type": "markdown",
   "id": "ffb429f3",
   "metadata": {},
   "source": [
    "Trenowanie modeli i ich ewaluacja:"
   ]
  },
  {
   "cell_type": "code",
   "execution_count": 38,
   "id": "92d5e93d",
   "metadata": {},
   "outputs": [
    {
     "name": "stdout",
     "output_type": "stream",
     "text": [
      "SVM Classifier Report:\n",
      "              precision    recall  f1-score   support\n",
      "\n",
      "         0.0       1.00      1.00      1.00       185\n",
      "         1.0       0.99      0.97      0.98       678\n",
      "         2.0       0.00      0.00      0.00        34\n",
      "         3.0       0.88      0.98      0.93       396\n",
      "\n",
      "    accuracy                           0.95      1293\n",
      "   macro avg       0.72      0.74      0.73      1293\n",
      "weighted avg       0.93      0.95      0.94      1293\n",
      "\n",
      "SVM Accuracy: 0.9528228924980665\n"
     ]
    },
    {
     "name": "stderr",
     "output_type": "stream",
     "text": [
      "c:\\Users\\kdrajok\\AppData\\Local\\Programs\\Python\\Python311\\Lib\\site-packages\\sklearn\\metrics\\_classification.py:1517: UndefinedMetricWarning: Precision is ill-defined and being set to 0.0 in labels with no predicted samples. Use `zero_division` parameter to control this behavior.\n",
      "  _warn_prf(average, modifier, f\"{metric.capitalize()} is\", len(result))\n",
      "c:\\Users\\kdrajok\\AppData\\Local\\Programs\\Python\\Python311\\Lib\\site-packages\\sklearn\\metrics\\_classification.py:1517: UndefinedMetricWarning: Precision is ill-defined and being set to 0.0 in labels with no predicted samples. Use `zero_division` parameter to control this behavior.\n",
      "  _warn_prf(average, modifier, f\"{metric.capitalize()} is\", len(result))\n",
      "c:\\Users\\kdrajok\\AppData\\Local\\Programs\\Python\\Python311\\Lib\\site-packages\\sklearn\\metrics\\_classification.py:1517: UndefinedMetricWarning: Precision is ill-defined and being set to 0.0 in labels with no predicted samples. Use `zero_division` parameter to control this behavior.\n",
      "  _warn_prf(average, modifier, f\"{metric.capitalize()} is\", len(result))\n"
     ]
    },
    {
     "name": "stdout",
     "output_type": "stream",
     "text": [
      "\n",
      "\n",
      "Random Forest Classifier Report:\n",
      "              precision    recall  f1-score   support\n",
      "\n",
      "         0.0       1.00      1.00      1.00       185\n",
      "         1.0       1.00      1.00      1.00       678\n",
      "         2.0       1.00      0.94      0.97        34\n",
      "         3.0       0.99      1.00      1.00       396\n",
      "\n",
      "    accuracy                           1.00      1293\n",
      "   macro avg       1.00      0.99      0.99      1293\n",
      "weighted avg       1.00      1.00      1.00      1293\n",
      "\n",
      "Random Forest Accuracy: 0.9984532095901005\n"
     ]
    }
   ],
   "source": [
    "svm_model = SVC()\n",
    "svm_model.fit(X_train, y_train)\n",
    "y_pred_svm = svm_model.predict(X_test)\n",
    "print(\"SVM Classifier Report:\")\n",
    "print(classification_report(y_test, y_pred_svm))\n",
    "print(\"SVM Accuracy:\", accuracy_score(y_test, y_pred_svm))\n",
    "\n",
    "rf_model = RandomForestClassifier(n_estimators=100)\n",
    "rf_model.fit(X_train, y_train)\n",
    "y_pred_rf = rf_model.predict(X_test)\n",
    "print(\"\\n\\nRandom Forest Classifier Report:\")\n",
    "print(classification_report(y_test, y_pred_rf))\n",
    "print(\"Random Forest Accuracy:\", accuracy_score(y_test, y_pred_rf))"
   ]
  }
 ],
 "metadata": {
  "kernelspec": {
   "display_name": "Python 3",
   "language": "python",
   "name": "python3"
  },
  "language_info": {
   "codemirror_mode": {
    "name": "ipython",
    "version": 3
   },
   "file_extension": ".py",
   "mimetype": "text/x-python",
   "name": "python",
   "nbconvert_exporter": "python",
   "pygments_lexer": "ipython3",
   "version": "3.11.8"
  }
 },
 "nbformat": 4,
 "nbformat_minor": 5
}
