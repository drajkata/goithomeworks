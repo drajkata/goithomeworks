{
 "cells": [
  {
   "cell_type": "code",
   "execution_count": 423,
   "id": "78f0c781",
   "metadata": {},
   "outputs": [],
   "source": [
    "import pandas as pd\n",
    "import numpy as np\n",
    "from sklearn.linear_model import LinearRegression\n",
    "\n",
    "housing = pd.read_csv(\"data/Housing.csv\")\n",
    "housing.columns = [\"price\", \"area\", \"bedrooms\", \"bathrooms\", \"stories\", \"mainroad\", \"guestroom\", \"basement\", \"hotwaterheating\", \"airconditioning\", \"parking\", \"prefarea\", \"furnishingstatus\"]\n"
   ]
  },
  {
   "cell_type": "markdown",
   "id": "35f5bb26",
   "metadata": {},
   "source": [
    "Przygtowanie danych"
   ]
  },
  {
   "cell_type": "code",
   "execution_count": 424,
   "id": "c98e6bdd",
   "metadata": {},
   "outputs": [],
   "source": [
    "X_df = pd.DataFrame(np.ones(len(housing.index)), columns=[\"ones\"])\n",
    "X_df[\"area\"] = housing[\"area\"]\n",
    "X_df[\"bedrooms\"] = housing[\"bedrooms\"]\n",
    "X_df[\"bathrooms\"] = housing[\"bathrooms\"]\n",
    "X = X_df.values\n",
    "y = housing[\"price\"].values\n",
    "# W = np.array([1, 1, 1, 1])\n",
    "W = np.array([-173171.6080000028, 3.78762754e+02, 4.06820034e+05, 1.38604950e+06])\n",
    "alfa = 0.000000001"
   ]
  },
  {
   "cell_type": "markdown",
   "id": "7bc07095",
   "metadata": {},
   "source": [
    "Funkcja hipotezy regresji liniowej w postaci wektorowej"
   ]
  },
  {
   "cell_type": "code",
   "execution_count": 425,
   "id": "1bfdd833",
   "metadata": {},
   "outputs": [],
   "source": [
    "# TEORIA\n",
    "# X = np.array([\n",
    "#     [1, \"x11\", \"...\", \"x1n\"],\n",
    "#     [1, \"x21\", \"...\", \"x2n\"],\n",
    "#     [1, \"...\", \"...\", \"...\"],\n",
    "#     [1, \"xm1\", \"...\", \"xmn\"]\n",
    "# ])\n",
    "# W = np.array([\n",
    "#     [\"w0\", \"w1\", \"...\", \"wn\"],\n",
    "# ]).T\n",
    "# h_x = np.dot(X, W)"
   ]
  },
  {
   "cell_type": "code",
   "execution_count": 426,
   "id": "9dc09422",
   "metadata": {},
   "outputs": [],
   "source": [
    "def regression_hypothesis(X, W):\n",
    "    h_x = np.dot(X, W)\n",
    "    return h_x"
   ]
  },
  {
   "cell_type": "markdown",
   "id": "778a5b12",
   "metadata": {},
   "source": [
    "Funkcja obliczająca funkcję straty w postaci wektorowej"
   ]
  },
  {
   "cell_type": "code",
   "execution_count": 427,
   "id": "b8da3c40",
   "metadata": {},
   "outputs": [],
   "source": [
    "def loss_function(y_pred, y):\n",
    "    m = len(y)\n",
    "    loss = (1/(2*m)) * np.sum((y_pred - y)**2)\n",
    "    return loss"
   ]
  },
  {
   "cell_type": "markdown",
   "id": "ab7f2210",
   "metadata": {},
   "source": [
    "Obliczanie gradientu"
   ]
  },
  {
   "cell_type": "code",
   "execution_count": 428,
   "id": "3a3a6d56",
   "metadata": {},
   "outputs": [],
   "source": [
    "def gradient_descent(X, W, y, alfa):\n",
    "    m = len(y)\n",
    "    y_pred = regression_hypothesis(X, W)\n",
    "    errors = y_pred - y\n",
    "    gradient = (1/m) * np.dot(X.T, errors)\n",
    "    W = W - alfa * gradient\n",
    "    return W"
   ]
  },
  {
   "cell_type": "markdown",
   "id": "a3a9e6f3",
   "metadata": {},
   "source": [
    "Implementacja jednego kroku iteracji zejścia gradientowego"
   ]
  },
  {
   "cell_type": "code",
   "execution_count": 429,
   "id": "1dace5b8",
   "metadata": {},
   "outputs": [
    {
     "name": "stdout",
     "output_type": "stream",
     "text": [
      "[-1.73171608e+05  3.78762754e+02  4.06820034e+05  1.38604950e+06]\n",
      "895585024988.6595\n",
      "Funkcja straty pozostaje bez zmian dla alfa = 1e-09.\n"
     ]
    }
   ],
   "source": [
    "loss_0 = loss_function(regression_hypothesis(X, W), y)\n",
    "W = gradient_descent(X, W, y, alfa)\n",
    "loss_1 = loss_function(regression_hypothesis(X, W), y)\n",
    "print(W)\n",
    "print(loss_1)\n",
    "\n",
    "if loss_1 < loss_0:\n",
    "    print(f\"Funkcja straty maleje dla alfa = {alfa}.\")\n",
    "elif loss_1 > loss_0:\n",
    "    print(f\"Funkcja straty wzrasta dla alfa = {alfa}.\")\n",
    "else:\n",
    "    print(f\"Funkcja straty pozostaje bez zmian dla alfa = {alfa}.\")"
   ]
  },
  {
   "cell_type": "markdown",
   "id": "1e5750a7",
   "metadata": {},
   "source": [
    "Ile potrzeba iteracji, aby osiągnąć minimum?"
   ]
  },
  {
   "cell_type": "code",
   "execution_count": 430,
   "id": "6e5f6260",
   "metadata": {},
   "outputs": [
    {
     "name": "stdout",
     "output_type": "stream",
     "text": [
      "Potrzebne jest wykonanie 4 iteracji.\n"
     ]
    }
   ],
   "source": [
    "iteration = 0\n",
    "while True:\n",
    "    loss_0 = loss_function(regression_hypothesis(X, W), y)\n",
    "    W = gradient_descent(X, W, y, alfa)\n",
    "    loss_1 = loss_function(regression_hypothesis(X, W), y)\n",
    "    iteration += 1\n",
    "    if loss_1 == loss_0:\n",
    "        print(f\"Potrzebne jest wykonanie {iteration} iteracji.\")\n",
    "        break\n",
    "    if iteration > 1000000:\n",
    "        print(f\"Potrzebne jest wykonanie ponad 1000000 iteracji.\")\n",
    "        break"
   ]
  },
  {
   "cell_type": "markdown",
   "id": "eb76805e",
   "metadata": {},
   "source": [
    "Rozwiązanie analityczne"
   ]
  },
  {
   "cell_type": "code",
   "execution_count": 431,
   "id": "7875827c",
   "metadata": {},
   "outputs": [
    {
     "name": "stdout",
     "output_type": "stream",
     "text": [
      "[-1.73171608e+05  3.78762754e+02  4.06820034e+05  1.38604950e+06]\n",
      "895585024988.6597\n"
     ]
    }
   ],
   "source": [
    "X_tr = X.T\n",
    "W = np.dot(np.linalg.inv(np.dot(X_tr, X)), np.dot(X_tr, y))\n",
    "print(W)\n",
    "loss = loss_function(regression_hypothesis(X, W), y)\n",
    "print(loss)"
   ]
  },
  {
   "cell_type": "markdown",
   "id": "c4f04d57",
   "metadata": {},
   "source": [
    "Rozwiązanie przy użyciu biblioteki sklearn"
   ]
  },
  {
   "cell_type": "code",
   "execution_count": 432,
   "id": "c40b3f7f",
   "metadata": {},
   "outputs": [
    {
     "name": "stdout",
     "output_type": "stream",
     "text": [
      "[6660108.149]\n",
      "Współczynnik nachylenia: [0.00000000e+00 3.78762754e+02 4.06820034e+05 1.38604950e+06]\n",
      "Wyraz wolny: -173171.6080000028\n"
     ]
    }
   ],
   "source": [
    "W = np.array([-1.73171608e+05, 3.78762754e+02, 4.06820034e+05, 1.38604950e+06])\n",
    "y = np.dot(X, W)\n",
    "regressor = LinearRegression().fit(X, y)\n",
    "print(regressor.predict(np.array([[1, 7500, 3, 2]])))\n",
    "print(\"Współczynnik nachylenia:\", regressor.coef_)\n",
    "print(\"Wyraz wolny:\", regressor.intercept_)"
   ]
  }
 ],
 "metadata": {
  "kernelspec": {
   "display_name": "Python 3",
   "language": "python",
   "name": "python3"
  },
  "language_info": {
   "codemirror_mode": {
    "name": "ipython",
    "version": 3
   },
   "file_extension": ".py",
   "mimetype": "text/x-python",
   "name": "python",
   "nbconvert_exporter": "python",
   "pygments_lexer": "ipython3",
   "version": "3.11.8"
  }
 },
 "nbformat": 4,
 "nbformat_minor": 5
}
