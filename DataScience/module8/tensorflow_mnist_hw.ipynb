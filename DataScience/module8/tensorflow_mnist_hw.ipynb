{
 "cells": [
  {
   "cell_type": "markdown",
   "metadata": {
    "id": "b0Yf4NBJUSNM"
   },
   "source": [
    "# Tworzenie sieci neuronowej\n",
    "\n",
    "W tym zadaniu stworzymy w pełni połączoną sieć neuronową przy użyciu niskopoziomowych mechanizmów tensorflow.\n",
    "\n",
    "Architektura sieci neuronowej została przedstawiona na poniższym rysunku. Jak widać, ma ona jedną warstwę wejściową, dwie warstwy ukryte i warstwę wyjściową. W warstwach ukrytych wykorzystamy sigmoid jako funkcję aktywacji. Na warstwie wyjściowej użyjemy softmax.\n",
    "\n",
    "Część kodu do utworzenia sieci została już napisana, musisz wypełnić puste miejsca w określonych miejscach."
   ]
  },
  {
   "cell_type": "markdown",
   "metadata": {
    "id": "01rZWUu0USNQ"
   },
   "source": [
    "## Architektura sieci neuronowej\n",
    "\n",
    "<img src=\"http://cs231n.github.io/assets/nn1/neural_net2.jpeg\" alt=\"nn\" style=\"width: 400px;\"/>\n"
   ]
  },
  {
   "cell_type": "markdown",
   "metadata": {
    "id": "LLvIZ705Qw_V"
   },
   "source": [
    "## Informacje o zestawie danych MNIST\n",
    "\n",
    "Będziemy trenować tę sieć neuronową na zbiorze danych MNIST. Ten zbiór danych to duża liczba odręcznych obrazów cyfr składających się z 28 razy 28 pikseli. Każdy piksel przyjmuje wartość od 0 do 255.\n",
    "\n",
    "Tak jak poprzednio, zbiór danych zostanie podzielony na próbki treningowe i testowe. Znormalizujemy wszystkie obrazy tak, aby wartości pikseli wynosiły od 0 do 1, dzieląc jasność każdego piksela przez 255.\n",
    "\n",
    "Ponadto architektura sieci neuronowej oczekuje wektora jako danych wejściowych. W naszym przypadku jednak każdy przykładowy obiekt jest macierzą. Co należy zrobić? W tym zadaniu \"rozciągniemy\" macierz 28 razy 28$, uzyskując w ten sposób wektor składający się z 784 elementów.\n",
    "\n",
    "![MNIST Dataset](https://www.researchgate.net/profile/Steven-Young-5/publication/306056875/figure/fig1/AS:393921575309346@1470929630835/Example-images-from-the-MNIST-dataset.png)\n",
    "\n",
    "Więcej informacji na temat zbioru danych można znaleźć na stronie [tutaj](http://yann.lecun.com/exdb/mnist/)."
   ]
  },
  {
   "cell_type": "code",
   "execution_count": 12,
   "metadata": {
    "executionInfo": {
     "elapsed": 9262,
     "status": "ok",
     "timestamp": 1719773830666,
     "user": {
      "displayName": "Paweł Czerwiński",
      "userId": "14043403759427394096"
     },
     "user_tz": -120
    },
    "id": "il_0_5OyUSNR"
   },
   "outputs": [],
   "source": [
    "import tensorflow as tf\n",
    "import numpy as np\n",
    "import matplotlib.pyplot as plt\n",
    "import keras"
   ]
  },
  {
   "cell_type": "code",
   "execution_count": 13,
   "metadata": {
    "executionInfo": {
     "elapsed": 515,
     "status": "ok",
     "timestamp": 1719773835739,
     "user": {
      "displayName": "Paweł Czerwiński",
      "userId": "14043403759427394096"
     },
     "user_tz": -120
    },
    "id": "cd-1_abTUSNS"
   },
   "outputs": [],
   "source": [
    "num_classes = 10 # całkowita liczba klas, w naszym przypadku są to liczby od 0 do 9\n",
    "num_features = 784 # liczba atrybutów wektora wejściowego 28 * 28 = 784\n",
    "\n",
    "learning_rate = 0.001 # szybkość uczenia się sieci neuronowej\n",
    "training_steps = 3000 # maksymalna liczba epok\n",
    "batch_size = 256 # przeliczymy wagi sieci nie na całej próbce, ale na jej losowym podzbiorze elementów bat\n",
    "display_step = 100 # co 100 iteracji pokażemy aktualną wartość funkcji straty i dokładności\n",
    "\n",
    "n_hidden_1 = 128 # liczba neuronów warstwy 1\n",
    "n_hidden_2 = 256 # liczba neuronów warstwy 2"
   ]
  },
  {
   "cell_type": "code",
   "execution_count": 14,
   "metadata": {
    "executionInfo": {
     "elapsed": 2356,
     "status": "ok",
     "timestamp": 1719773850997,
     "user": {
      "displayName": "Paweł Czerwiński",
      "userId": "14043403759427394096"
     },
     "user_tz": -120
    },
    "id": "pGTXiRyTUSNT"
   },
   "outputs": [],
   "source": [
    "import tensorflow as tf\n",
    "import keras\n",
    "# Ładowanie zestawu danych\n",
    "(x_train, y_train), (x_test, y_test) = keras.datasets.mnist.load_data()\n",
    "\n",
    "# Konwersja pikseli całkowitych na typ float32\n",
    "x_train, x_test = np.array(x_train, np.float32), np.array(x_test, np.float32)\n",
    "\n",
    "# Konwertujemy macierze 28x28 pikseli na wektor składający się z 784 elementów\n",
    "x_train, x_test = x_train.reshape([-1, num_features]), x_test.reshape([-1, num_features])\n",
    "\n",
    "# Normalizacja wartości pikseli\n",
    "x_train, x_test = x_train / 255., x_test / 255.\n",
    "\n",
    "# Zmiksujmy dane treningowe\n",
    "train_data = tf.data.Dataset.from_tensor_slices((x_train, y_train))\n",
    "train_data = train_data.repeat().shuffle(5000).batch(batch_size).prefetch(1)"
   ]
  },
  {
   "cell_type": "code",
   "execution_count": 15,
   "metadata": {
    "executionInfo": {
     "elapsed": 463,
     "status": "ok",
     "timestamp": 1719773857624,
     "user": {
      "displayName": "Paweł Czerwiński",
      "userId": "14043403759427394096"
     },
     "user_tz": -120
    },
    "id": "FkRmCQjnUSNV"
   },
   "outputs": [],
   "source": [
    "# Stwórzmy sieć neuronową\n",
    "\n",
    "class DenseLayer(tf.Module):\n",
    "    def __init__(self, in_features, out_features, name=None):\n",
    "        super().__init__(name=name)\n",
    "        self.w = tf.Variable(\n",
    "        tf.random.normal([in_features, out_features]), name=\"w\"\n",
    "      )\n",
    "        self.b = tf.Variable(tf.zeros([out_features]), name=\"b\")\n",
    "\n",
    "    def __call__(self, x):\n",
    "        y = tf.matmul(x, self.w) + self.b\n",
    "        return tf.nn.relu(y)\n",
    "\n",
    "\n",
    "class NN(tf.Module):\n",
    "  def __init__(self, name=None):\n",
    "    super().__init__(name=name)\n",
    "    in_out = [num_features, n_hidden_1, n_hidden_2, num_classes]\n",
    "    layers = []\n",
    "\n",
    "    # Tworzenie warstw\n",
    "    for i in range(len(in_out)-1):\n",
    "      layers.append(DenseLayer(in_out[i], in_out[i+1], \"layer\"))\n",
    "\n",
    "    self.layers = layers\n",
    "\n",
    "  def __call__(self, x):\n",
    "     i = 0\n",
    "     n = len(self.layers) # 3\n",
    "\n",
    "     for layer in self.layers:\n",
    "      i += 1\n",
    "      x = layer(x)\n",
    "\n",
    "      if i < n:\n",
    "        x = tf.nn.sigmoid(x) # 1, 2\n",
    "      else:\n",
    "        x = tf.nn.softmax(x) # 3\n",
    "\n",
    "\n",
    "     return x"
   ]
  },
  {
   "cell_type": "code",
   "execution_count": 16,
   "metadata": {
    "executionInfo": {
     "elapsed": 430,
     "status": "ok",
     "timestamp": 1719773865249,
     "user": {
      "displayName": "Paweł Czerwiński",
      "userId": "14043403759427394096"
     },
     "user_tz": -120
    },
    "id": "LIf3o7VAUSNV"
   },
   "outputs": [],
   "source": [
    "import tensorflow as tf\n",
    "import keras\n",
    "import numpy\n",
    "# W tym przypadku wygodnie jest przyjąć entropię krzyżową jako funkcję błędu\n",
    "def cross_entropy(y_pred, y_true):\n",
    "    # Encode label to a one hot vector.\n",
    "    y_true = tf.one_hot(y_true, depth=num_classes)\n",
    "\n",
    "    # Clip prediction values to avoid log(0) error.\n",
    "    y_pred = tf.clip_by_value(y_pred, 1e-9, 1.)\n",
    "\n",
    "    # Obliczanie entropii krzyżowej\n",
    "    return tf.reduce_mean(-tf.reduce_sum(y_true * tf.math.log(y_pred)))\n",
    "\n",
    "# Jako miernik jakości stosujemy dokładność\n",
    "def accuracy(y_pred, y_true):\n",
    "    y_pred = tf.argmax(y_pred, axis=1)\n",
    "    y_true = tf.cast(y_true, tf.int64)\n",
    "    correct_prediction = tf.equal(y_pred, y_true)\n",
    "    return tf.reduce_mean(tf.cast(correct_prediction, tf.float32)).numpy()"
   ]
  },
  {
   "cell_type": "code",
   "execution_count": 17,
   "metadata": {
    "executionInfo": {
     "elapsed": 449,
     "status": "ok",
     "timestamp": 1719773872236,
     "user": {
      "displayName": "Paweł Czerwiński",
      "userId": "14043403759427394096"
     },
     "user_tz": -120
    },
    "id": "MQeT1yatUSNW"
   },
   "outputs": [],
   "source": [
    "# Stwórzmy przykładową sieć neuronową\n",
    "neural_net = NN(name=\"mnist\")\n",
    "\n",
    "# Funkcja treningu sieci neuronowej\n",
    "def train(nn, input_x, output_y):\n",
    "  # Do dopasowania wag sieci wykorzystamy stochastyczne zejście gradientowe\n",
    "  optimizer = tf.optimizers.SGD(learning_rate)\n",
    "\n",
    "  # Aktywacja automatycznego różnicowania\n",
    "  with tf.GradientTape() as g:\n",
    "    pred = neural_net(input_x)\n",
    "    loss = cross_entropy(pred, output_y)\n",
    "    # Utwórz zoptymalizowaną listę parametrów\n",
    "    variables = [layer.w for layer in nn.layers] + [layer.b for layer in nn.layers]\n",
    "    # Oblicz na ich podstawie wartość gradientu\n",
    "    gradient = g.gradient(loss, variables)\n",
    "    # Zmodyfikuj parametry\n",
    "    optimizer.apply_gradients(zip(gradient, variables))\n",
    "    return loss"
   ]
  },
  {
   "cell_type": "code",
   "execution_count": 18,
   "metadata": {
    "colab": {
     "base_uri": "https://localhost:8080/"
    },
    "id": "fnyns9lBfpQZ",
    "outputId": "4fa22bc8-9c45-41e1-e510-65da564c920c"
   },
   "outputs": [
    {
     "name": "stdout",
     "output_type": "stream",
     "text": [
      "Step: 100\n",
      "Loss: 589.6511\n",
      "Accuracy: 0.1211\n",
      "Step: 200\n",
      "Loss: 589.4695\n",
      "Accuracy: 0.0664\n",
      "Step: 300\n",
      "Loss: 589.4879\n",
      "Accuracy: 0.1094\n",
      "Step: 400\n",
      "Loss: 589.5140\n",
      "Accuracy: 0.0625\n",
      "Step: 500\n",
      "Loss: 589.4311\n",
      "Accuracy: 0.0859\n",
      "Step: 600\n",
      "Loss: 589.4619\n",
      "Accuracy: 0.1133\n",
      "Step: 700\n",
      "Loss: 589.1633\n",
      "Accuracy: 0.1367\n",
      "Step: 800\n",
      "Loss: 588.6454\n",
      "Accuracy: 0.0820\n",
      "Step: 900\n",
      "Loss: 592.8539\n",
      "Accuracy: 0.1055\n",
      "Step: 1000\n",
      "Loss: 585.3575\n",
      "Accuracy: 0.1484\n",
      "Step: 1100\n",
      "Loss: 560.5860\n",
      "Accuracy: 0.1602\n",
      "Step: 1200\n",
      "Loss: 578.7496\n",
      "Accuracy: 0.1523\n",
      "Step: 1300\n",
      "Loss: 561.9536\n",
      "Accuracy: 0.1562\n",
      "Step: 1400\n",
      "Loss: 554.8679\n",
      "Accuracy: 0.1875\n",
      "Step: 1500\n",
      "Loss: 551.4933\n",
      "Accuracy: 0.1836\n",
      "Step: 1600\n",
      "Loss: 546.7151\n",
      "Accuracy: 0.1836\n",
      "Step: 1700\n",
      "Loss: 548.8685\n",
      "Accuracy: 0.1602\n",
      "Step: 1800\n",
      "Loss: 553.5790\n",
      "Accuracy: 0.1914\n",
      "Step: 1900\n",
      "Loss: 529.9714\n",
      "Accuracy: 0.2188\n",
      "Step: 2000\n",
      "Loss: 542.7983\n",
      "Accuracy: 0.1797\n",
      "Step: 2100\n",
      "Loss: 531.3085\n",
      "Accuracy: 0.2031\n",
      "Step: 2200\n",
      "Loss: 544.3505\n",
      "Accuracy: 0.2031\n",
      "Step: 2300\n",
      "Loss: 559.5860\n",
      "Accuracy: 0.1719\n",
      "Step: 2400\n",
      "Loss: 538.1720\n",
      "Accuracy: 0.1914\n",
      "Step: 2500\n",
      "Loss: 543.1105\n",
      "Accuracy: 0.2109\n",
      "Step: 2600\n",
      "Loss: 531.4011\n",
      "Accuracy: 0.2148\n",
      "Step: 2700\n",
      "Loss: 545.5400\n",
      "Accuracy: 0.1523\n",
      "Step: 2800\n",
      "Loss: 556.3215\n",
      "Accuracy: 0.2070\n",
      "Step: 2900\n",
      "Loss: 554.8268\n",
      "Accuracy: 0.1367\n",
      "Step: 3000\n",
      "Loss: 532.1031\n",
      "Accuracy: 0.1953\n"
     ]
    }
   ],
   "source": [
    "# Szkolenie sieciowe\n",
    "\n",
    "loss_history = []  # każdy krok display_step zapisuje bieżący błąd sieci neuronowej na tej liście\n",
    "accuracy_history = [] # każdy krok display_step zapisuje aktualną dokładność sieci neuronowej na tej liście\n",
    "displays_steps = []\n",
    "\n",
    "# W tej pętli będziemy trenować sieć neuronową\n",
    "# Z treningowego zbioru danych train_data, wyodrębnij losowy podzbiór, na którym\n",
    "# będzie trenowana. Użyj metody take dostępnej dla szkoleniowego zbioru danych.\n",
    "for step, (batch_x, batch_y) in enumerate(train_data.take(training_steps), 1):\n",
    "    # Aktualizacja wag sieci neuronowej\n",
    "\n",
    "    loss  = train(neural_net, batch_x, batch_y)\n",
    "\n",
    "    if step % display_step == 0:\n",
    "        pred = neural_net(batch_x)\n",
    "        loss_history.append(cross_entropy(pred, batch_y).numpy())\n",
    "        accuracy_history.append(accuracy(pred, batch_y))\n",
    "        displays_steps.append(step)\n",
    "        print(f\"Step: {step}\")\n",
    "        print(f\"Loss: {loss:.4f}\")\n",
    "        print(f\"Accuracy: {accuracy_history[-1]:.4f}\")\n"
   ]
  },
  {
   "cell_type": "code",
   "execution_count": 19,
   "metadata": {
    "id": "_yCBfG6MbQB2"
   },
   "outputs": [
    {
     "data": {
      "text/plain": [
       "<matplotlib.legend.Legend at 0x1ba00cbafd0>"
      ]
     },
     "execution_count": 19,
     "metadata": {},
     "output_type": "execute_result"
    },
    {
     "data": {
      "image/png": "[encoded data removed]",
      "text/plain": [
       "<Figure size 640x480 with 2 Axes>"
      ]
     },
     "metadata": {},
     "output_type": "display_data"
    }
   ],
   "source": [
    "# Wykreśl zmianę dokładności i strat jako funkcję skoku\n",
    "# Jeśli zostanie to zrobione poprawnie, dokładność powinna wzrosnąć, a straty powinny się zmniejszyć.\n",
    "\n",
    "plt.subplot(1, 2, 1)\n",
    "plt.plot(displays_steps, loss_history, color='g')\n",
    "plt.grid(True)\n",
    "plt.legend([\"Historia strat\"])\n",
    "plt.subplot(1, 2, 2)\n",
    "plt.plot(displays_steps, accuracy_history, color='b')\n",
    "plt.grid(True)\n",
    "plt.legend([\"Historia dokładności\"])"
   ]
  },
  {
   "cell_type": "code",
   "execution_count": 20,
   "metadata": {
    "id": "LE3g4gDyUSNY"
   },
   "outputs": [
    {
     "name": "stdout",
     "output_type": "stream",
     "text": [
      "0.1857\n"
     ]
    }
   ],
   "source": [
    "# Oblicz dokładność wytrenowanej sieci neuronowej\n",
    "\n",
    "acc = accuracy(neural_net(x_test), y_test)\n",
    "print(acc)"
   ]
  },
  {
   "cell_type": "code",
   "execution_count": 21,
   "metadata": {
    "id": "_EEHAubOUSNY"
   },
   "outputs": [
    {
     "name": "stdout",
     "output_type": "stream",
     "text": [
      "7\n"
     ]
    },
    {
     "data": {
      "text/plain": [
       "<matplotlib.image.AxesImage at 0x1ba00ebcd90>"
      ]
     },
     "execution_count": 21,
     "metadata": {},
     "output_type": "execute_result"
    },
    {
     "data": {
      "image/png": "[encoded data removed]",
      "text/plain": [
       "<Figure size 640x480 with 1 Axes>"
      ]
     },
     "metadata": {},
     "output_type": "display_data"
    }
   ],
   "source": [
    "# Przetestuj wytrenowaną sieć neuronową na 10 obrazach. Z próbki testowej wybierz 5\n",
    "# losowych obrazów i wprowadź je do sieci neuronowej.\n",
    "# Wyprowadź obraz i zapisz obok niego odpowiedź sieci neuronowej.\n",
    "# Czy sieć neuronowa się myli, a jeśli tak, to jak często?\n",
    "\n",
    "sample_num = 64\n",
    "x1 = x_test[sample_num].reshape(28, 28)\n",
    "print(y_test[sample_num])\n",
    "plt.imshow(x1)"
   ]
  },
  {
   "cell_type": "code",
   "execution_count": 22,
   "metadata": {},
   "outputs": [
    {
     "data": {
      "image/png": "[encoded data removed]",
      "text/plain": [
       "<Figure size 1500x300 with 5 Axes>"
      ]
     },
     "metadata": {},
     "output_type": "display_data"
    },
    {
     "data": {
      "image/png": "[encoded data removed]",
      "text/plain": [
       "<Figure size 2000x400 with 10 Axes>"
      ]
     },
     "metadata": {},
     "output_type": "display_data"
    },
    {
     "name": "stdout",
     "output_type": "stream",
     "text": [
      "Poprawne: 2\n",
      "Niepoprawne: 8\n",
      "Dokładność na 10 obrazach: 0.2000\n"
     ]
    }
   ],
   "source": [
    "import random\n",
    "\n",
    "num_samples = 5\n",
    "random_indices = random.sample(range(x_test.shape[0]), num_samples)\n",
    "random_images = x_test[random_indices]\n",
    "random_labels = y_test[random_indices]\n",
    "\n",
    "predictions = neural_net(random_images)\n",
    "predicted_labels = tf.argmax(predictions, axis=1).numpy()\n",
    "\n",
    "plt.figure(figsize=(15, 3))\n",
    "for i in range(num_samples):\n",
    "    plt.subplot(1, num_samples, i+1)\n",
    "    plt.imshow(random_images[i].reshape(28, 28), cmap='gray')\n",
    "    plt.title(f\"Cyfra: {random_labels[i]}, Prognoza: {predicted_labels[i]}\")\n",
    "    plt.axis('off')\n",
    "plt.show()\n",
    "\n",
    "num_test_samples = 10\n",
    "test_predictions = neural_net(x_test[:num_test_samples])\n",
    "test_predicted_labels = tf.argmax(test_predictions, axis=1).numpy()\n",
    "\n",
    "\n",
    "plt.figure(figsize=(20, 4))\n",
    "for i in range(num_test_samples):\n",
    "    plt.subplot(2, 5, i+1)\n",
    "    plt.imshow(x_test[i].reshape(28, 28), cmap='gray')\n",
    "    plt.title(f\"Cyfra: {y_test[i]}, Test: {test_predicted_labels[i]}\")\n",
    "    plt.axis('off')\n",
    "plt.show()\n",
    "\n",
    "correct_predictions = sum(y_test[:num_test_samples] == test_predicted_labels)\n",
    "incorrect_predictions = num_test_samples - correct_predictions\n",
    "\n",
    "print(f\"Poprawne: {correct_predictions}\")\n",
    "print(f\"Niepoprawne: {incorrect_predictions}\")\n",
    "print(f\"Dokładność na 10 obrazach: {correct_predictions / num_test_samples:.4f}\")\n"
   ]
  },
  {
   "cell_type": "code",
   "execution_count": 28,
   "metadata": {},
   "outputs": [
    {
     "name": "stdout",
     "output_type": "stream",
     "text": [
      "Poprawne: 182\n",
      "Niepoprawne: 818\n",
      "Dokładność na 1000 obrazach: 0.1820\n"
     ]
    }
   ],
   "source": [
    "import random\n",
    "\n",
    "num_samples = 50\n",
    "random_indices = random.sample(range(x_test.shape[0]), num_samples)\n",
    "random_images = x_test[random_indices]\n",
    "random_labels = y_test[random_indices]\n",
    "\n",
    "predictions = neural_net(random_images)\n",
    "predicted_labels = tf.argmax(predictions, axis=1).numpy()\n",
    "\n",
    "num_test_samples = 1000\n",
    "test_predictions = neural_net(x_test[:num_test_samples])\n",
    "test_predicted_labels = tf.argmax(test_predictions, axis=1).numpy()\n",
    "\n",
    "correct_predictions = sum(y_test[:num_test_samples] == test_predicted_labels)\n",
    "incorrect_predictions = num_test_samples - correct_predictions\n",
    "\n",
    "print(f\"Poprawne: {correct_predictions}\")\n",
    "print(f\"Niepoprawne: {incorrect_predictions}\")\n",
    "print(f\"Dokładność na 1000 obrazach: {correct_predictions / num_test_samples:.4f}\")\n"
   ]
  },
  {
   "cell_type": "markdown",
   "metadata": {},
   "source": [
    "Wnioski: Dokładność tego modelu jest na poziomie ok. 20%, co jest bardzo niskie dla klasyfikacji cyfr MNIST. Możliwe, że dobrane są niewłaściwe hiperparametry jak np. learning rate, batch size itp. Możliwe, że liczba kroków prowadzi do niedostatecznego trenowania modelu. Można spróbować użyć innej funkcji w warstwach ukrytych, np. ReLU. Używanie sigmoidu może prowadzić do problemów z zanikiem grafientu."
   ]
  }
 ],
 "metadata": {
  "colab": {
   "provenance": []
  },
  "kernelspec": {
   "display_name": "Python 3 (ipykernel)",
   "language": "python",
   "name": "python3"
  },
  "language_info": {
   "codemirror_mode": {
    "name": "ipython",
    "version": 3
   },
   "file_extension": ".py",
   "mimetype": "text/x-python",
   "name": "python",
   "nbconvert_exporter": "python",
   "pygments_lexer": "ipython3",
   "version": "3.11.9"
  }
 },
 "nbformat": 4,
 "nbformat_minor": 4
}
