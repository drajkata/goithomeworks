{
 "cells": [
  {
   "cell_type": "markdown",
   "metadata": {
    "id": "b0Yf4NBJUSNM"
   },
   "source": [
    "# Tworzenie sieci neuronowej\n",
    "\n",
    "W tym zadaniu stworzymy w pełni połączoną sieć neuronową przy użyciu niskopoziomowych mechanizmów tensorflow.\n",
    "\n",
    "Architektura sieci neuronowej została przedstawiona na poniższym rysunku. Jak widać, ma ona jedną warstwę wejściową, dwie warstwy ukryte i warstwę wyjściową. W warstwach ukrytych wykorzystamy sigmoid jako funkcję aktywacji. Na warstwie wyjściowej użyjemy softmax.\n",
    "\n",
    "Część kodu do utworzenia sieci została już napisana, musisz wypełnić puste miejsca w określonych miejscach."
   ]
  },
  {
   "cell_type": "markdown",
   "metadata": {
    "id": "01rZWUu0USNQ"
   },
   "source": [
    "## Architektura sieci neuronowej\n",
    "\n",
    "<img src=\"http://cs231n.github.io/assets/nn1/neural_net2.jpeg\" alt=\"nn\" style=\"width: 400px;\"/>\n"
   ]
  },
  {
   "cell_type": "markdown",
   "metadata": {
    "id": "LLvIZ705Qw_V"
   },
   "source": [
    "## Informacje o zestawie danych MNIST\n",
    "\n",
    "Będziemy trenować tę sieć neuronową na zbiorze danych MNIST. Ten zbiór danych to duża liczba odręcznych obrazów cyfr składających się z 28 razy 28 pikseli. Każdy piksel przyjmuje wartość od 0 do 255.\n",
    "\n",
    "Tak jak poprzednio, zbiór danych zostanie podzielony na próbki treningowe i testowe. Znormalizujemy wszystkie obrazy tak, aby wartości pikseli wynosiły od 0 do 1, dzieląc jasność każdego piksela przez 255.\n",
    "\n",
    "Ponadto architektura sieci neuronowej oczekuje wektora jako danych wejściowych. W naszym przypadku jednak każdy przykładowy obiekt jest macierzą. Co należy zrobić? W tym zadaniu \"rozciągniemy\" macierz 28 razy 28$, uzyskując w ten sposób wektor składający się z 784 elementów.\n",
    "\n",
    "![MNIST Dataset](https://www.researchgate.net/profile/Steven-Young-5/publication/306056875/figure/fig1/AS:393921575309346@1470929630835/Example-images-from-the-MNIST-dataset.png)\n",
    "\n",
    "Więcej informacji na temat zbioru danych można znaleźć na stronie [tutaj](http://yann.lecun.com/exdb/mnist/)."
   ]
  },
  {
   "cell_type": "code",
   "execution_count": 1,
   "metadata": {
    "executionInfo": {
     "elapsed": 9262,
     "status": "ok",
     "timestamp": 1719773830666,
     "user": {
      "displayName": "Paweł Czerwiński",
      "userId": "14043403759427394096"
     },
     "user_tz": -120
    },
    "id": "il_0_5OyUSNR"
   },
   "outputs": [],
   "source": [
    "import tensorflow as tf\n",
    "import numpy as np\n",
    "import matplotlib.pyplot as plt"
   ]
  },
  {
   "cell_type": "code",
   "execution_count": 2,
   "metadata": {
    "executionInfo": {
     "elapsed": 515,
     "status": "ok",
     "timestamp": 1719773835739,
     "user": {
      "displayName": "Paweł Czerwiński",
      "userId": "14043403759427394096"
     },
     "user_tz": -120
    },
    "id": "cd-1_abTUSNS"
   },
   "outputs": [],
   "source": [
    "num_classes = 10 # całkowita liczba klas, w naszym przypadku są to liczby od 0 do 9\n",
    "num_features = 784 # liczba atrybutów wektora wejściowego 28 * 28 = 784\n",
    "\n",
    "learning_rate = 0.001 # szybkość uczenia się sieci neuronowej\n",
    "training_steps = 3000 # maksymalna liczba epok\n",
    "batch_size = 256 # przeliczymy wagi sieci nie na całej próbce, ale na jej losowym podzbiorze elementów bat\n",
    "display_step = 100 # co 100 iteracji pokażemy aktualną wartość funkcji straty i dokładności\n",
    "\n",
    "n_hidden_1 = 128 # liczba neuronów warstwy 1\n",
    "n_hidden_2 = 256 # liczba neuronów warstwy 2"
   ]
  },
  {
   "cell_type": "code",
   "execution_count": 3,
   "metadata": {
    "executionInfo": {
     "elapsed": 2356,
     "status": "ok",
     "timestamp": 1719773850997,
     "user": {
      "displayName": "Paweł Czerwiński",
      "userId": "14043403759427394096"
     },
     "user_tz": -120
    },
    "id": "pGTXiRyTUSNT"
   },
   "outputs": [
    {
     "name": "stdout",
     "output_type": "stream",
     "text": [
      "x_train: [[0. 0. 0. ... 0. 0. 0.]\n",
      " [0. 0. 0. ... 0. 0. 0.]\n",
      " [0. 0. 0. ... 0. 0. 0.]\n",
      " ...\n",
      " [0. 0. 0. ... 0. 0. 0.]\n",
      " [0. 0. 0. ... 0. 0. 0.]\n",
      " [0. 0. 0. ... 0. 0. 0.]]\n",
      "x_test: [[0. 0. 0. ... 0. 0. 0.]\n",
      " [0. 0. 0. ... 0. 0. 0.]\n",
      " [0. 0. 0. ... 0. 0. 0.]\n",
      " ...\n",
      " [0. 0. 0. ... 0. 0. 0.]\n",
      " [0. 0. 0. ... 0. 0. 0.]\n",
      " [0. 0. 0. ... 0. 0. 0.]]\n",
      "Normalizacja\n",
      "x_train: [[0. 0. 0. ... 0. 0. 0.]\n",
      " [0. 0. 0. ... 0. 0. 0.]\n",
      " [0. 0. 0. ... 0. 0. 0.]\n",
      " ...\n",
      " [0. 0. 0. ... 0. 0. 0.]\n",
      " [0. 0. 0. ... 0. 0. 0.]\n",
      " [0. 0. 0. ... 0. 0. 0.]]\n",
      "x_test: [[0. 0. 0. ... 0. 0. 0.]\n",
      " [0. 0. 0. ... 0. 0. 0.]\n",
      " [0. 0. 0. ... 0. 0. 0.]\n",
      " ...\n",
      " [0. 0. 0. ... 0. 0. 0.]\n",
      " [0. 0. 0. ... 0. 0. 0.]\n",
      " [0. 0. 0. ... 0. 0. 0.]]\n"
     ]
    }
   ],
   "source": [
    "from tensorflow.keras.datasets import mnist\n",
    "\n",
    "# Ładowanie zestawu danych\n",
    "(x_train, y_train), (x_test, y_test) = mnist.load_data()\n",
    "\n",
    "# Konwersja pikseli całkowitych na typ float32\n",
    "x_train, x_test = np.array(x_train, np.float32), np.array(x_test, np.float32)\n",
    "\n",
    "# Konwertujemy macierze 28x28 pikseli na wektor składający się z 784 elementów\n",
    "x_train, x_test = x_train.reshape([-1, num_features]), x_test.reshape([-1, num_features])\n",
    "print(f\"x_train: {x_train}\")\n",
    "print(f\"x_test: {x_test}\")\n",
    "\n",
    "# Normalizacja wartości pikseli\n",
    "x_train, x_test = x_train / 255., x_test / 255.\n",
    "print(\"Normalizacja\")\n",
    "print(f\"x_train: {x_train}\")\n",
    "print(f\"x_test: {x_test}\")\n",
    "\n",
    "# Zmiksujmy dane treningowe\n",
    "train_data = tf.data.Dataset.from_tensor_slices((x_train, y_train))\n",
    "train_data = train_data.repeat().shuffle(5000).batch(batch_size).prefetch(1)"
   ]
  },
  {
   "cell_type": "code",
   "execution_count": 5,
   "metadata": {
    "executionInfo": {
     "elapsed": 463,
     "status": "ok",
     "timestamp": 1719773857624,
     "user": {
      "displayName": "Paweł Czerwiński",
      "userId": "14043403759427394096"
     },
     "user_tz": -120
    },
    "id": "FkRmCQjnUSNV"
   },
   "outputs": [],
   "source": [
    "# Stwórzmy sieć neuronową\n",
    "\n",
    "class DenseLayer(tf.Module):\n",
    "    def __init__(self, in_features, out_features, name=None):\n",
    "        super().__init__(name=name)\n",
    "        # Miejsce na kod\n",
    "        self.w = tf.Variable(\n",
    "        tf.random.normal([in_features, out_features]), name=\"w\"\n",
    "      )\n",
    "        self.b = tf.Variable(tf.zeros([out_features]), name=\"b\")\n",
    "\n",
    "    def __call__(self, x):\n",
    "        # Miejsce na kod\n",
    "        y = tf.matmul(x, self.w) + self.b\n",
    "        return y\n",
    "\n",
    "\n",
    "class NN(tf.Module):\n",
    "  def __init__(self, name=None):\n",
    "    super().__init__(name=name)\n",
    "    in_out = [num_features, n_hidden_1, n_hidden_2, num_classes]\n",
    "    layers = []\n",
    "\n",
    "    # Tworzenie warstw\n",
    "    for i in range(len(in_out)-1):\n",
    "      layers.append(DenseLayer(in_out[i], in_out[i+1], \"layer\"))\n",
    "\n",
    "    self.layers = layers\n",
    "\n",
    "  def __call__(self, x):\n",
    "     i = 0\n",
    "     n = len(self.layers) # 3\n",
    "\n",
    "     for layer in self.layers:\n",
    "      i += 1\n",
    "      x = layer(x)\n",
    "\n",
    "      if i < n:\n",
    "        x = tf.nn.relu(x) # 1, 2\n",
    "      else:\n",
    "        x = tf.nn.softmax(x) # 3\n",
    "\n",
    "\n",
    "     return x"
   ]
  },
  {
   "cell_type": "code",
   "execution_count": null,
   "metadata": {
    "executionInfo": {
     "elapsed": 430,
     "status": "ok",
     "timestamp": 1719773865249,
     "user": {
      "displayName": "Paweł Czerwiński",
      "userId": "14043403759427394096"
     },
     "user_tz": -120
    },
    "id": "LIf3o7VAUSNV"
   },
   "outputs": [],
   "source": [
    "# W tym przypadku wygodnie jest przyjąć entropię krzyżową jako funkcję błędu\n",
    "def cross_entropy(y_pred, y_true):\n",
    "    # Encode label to a one hot vector.\n",
    "    y_true = tf.one_hot(y_true, depth=num_classes)\n",
    "\n",
    "    # Clip prediction values to avoid log(0) error.\n",
    "    y_pred = tf.clip_by_value(y_pred, 1e-9, 1.)\n",
    "\n",
    "    # Obliczanie entropii krzyżowej\n",
    "    return tf.reduce_mean(-tf.reduce_sum(y_true * tf.math.log(y_pred)))\n",
    "\n",
    "# Jako miernik jakości stosujemy dokładność\n",
    "def accuracy(y_pred, y_true):\n",
    "    y_true = tf.one_hot(y_true, depth=num_classes)\n",
    "\n",
    "    m = tf.keras.metrics.Accuracy()\n",
    "    m.update_state(y_true, y_pred)\n",
    "\n",
    "    return m.result().numpy()"
   ]
  },
  {
   "cell_type": "code",
   "execution_count": null,
   "metadata": {
    "executionInfo": {
     "elapsed": 449,
     "status": "ok",
     "timestamp": 1719773872236,
     "user": {
      "displayName": "Paweł Czerwiński",
      "userId": "14043403759427394096"
     },
     "user_tz": -120
    },
    "id": "MQeT1yatUSNW"
   },
   "outputs": [],
   "source": [
    "# Stwórzmy przykładową sieć neuronową\n",
    "neural_net = NN(name=\"mnist\")\n",
    "\n",
    "# Funkcja treningu sieci neuronowej\n",
    "def train(nn, input_x, output_y):\n",
    "  # Do dopasowania wag sieci wykorzystamy stochastyczne zejście gradientowe\n",
    "  optimizer = tf.optimizers.SGD(learning_rate)\n",
    "\n",
    "  # Aktywacja automatycznego różnicowania\n",
    "  with tf.GradientTape() as g:\n",
    "    pred = neural_net(input_x)\n",
    "    loss = cross_entropy(pred, output_y)\n",
    "     # Utwórz zoptymalizowaną listę parametrów\n",
    "    variables = nn.variables\n",
    "    # Oblicz na ich podstawie wartość gradientu\n",
    "    gradient = g.gradient(loss, variables)\n",
    "    # Zmodyfikuj parametry\n",
    "    optimizer.apply_gradients(zip(gradient, variables))"
   ]
  },
  {
   "cell_type": "code",
   "execution_count": null,
   "metadata": {
    "colab": {
     "base_uri": "https://localhost:8080/"
    },
    "id": "fnyns9lBfpQZ",
    "outputId": "4fa22bc8-9c45-41e1-e510-65da564c920c"
   },
   "outputs": [
    {
     "name": "stderr",
     "output_type": "stream",
     "text": [
      "WARNING:tensorflow:5 out of the last 5 calls to <function _BaseOptimizer._update_step_xla at 0x7aed66498ca0> triggered tf.function retracing. Tracing is expensive and the excessive number of tracings could be due to (1) creating @tf.function repeatedly in a loop, (2) passing tensors with different shapes, (3) passing Python objects instead of tensors. For (1), please define your @tf.function outside of the loop. For (2), @tf.function has reduce_retracing=True option that can avoid unnecessary retracing. For (3), please refer to https://www.tensorflow.org/guide/function#controlling_retracing and https://www.tensorflow.org/api_docs/python/tf/function for  more details.\n",
      "WARNING:tensorflow:6 out of the last 6 calls to <function _BaseOptimizer._update_step_xla at 0x7aed66498ca0> triggered tf.function retracing. Tracing is expensive and the excessive number of tracings could be due to (1) creating @tf.function repeatedly in a loop, (2) passing tensors with different shapes, (3) passing Python objects instead of tensors. For (1), please define your @tf.function outside of the loop. For (2), @tf.function has reduce_retracing=True option that can avoid unnecessary retracing. For (3), please refer to https://www.tensorflow.org/guide/function#controlling_retracing and https://www.tensorflow.org/api_docs/python/tf/function for  more details.\n"
     ]
    }
   ],
   "source": [
    "# Szkolenie sieciowe\n",
    "\n",
    "loss_history = []  # każdy krok display_step zapisuje bieżący błąd sieci neuronowej na tej liście\n",
    "accuracy_history = [] # każdy krok display_step zapisuje aktualną dokładność sieci neuronowej na tej liście\n",
    "displays_steps = []\n",
    "\n",
    "# W tej pętli będziemy trenować sieć neuronową\n",
    "# Z treningowego zbioru danych train_data, wyodrębnij losowy podzbiór, na którym\n",
    "# będzie trenowana. Użyj metody take dostępnej dla szkoleniowego zbioru danych.\n",
    "for step, (batch_x, batch_y) in zip(range(training_steps), train_data):\n",
    "    # Aktualizacja wag sieci neuronowej\n",
    "\n",
    "    train(neural_net, batch_x, batch_y)\n",
    "\n",
    "    if step % display_step == 0:\n",
    "\n",
    "        pred = neural_net(batch_x)\n",
    "\n",
    "        loss_history.append(cross_entropy(pred, batch_y))\n",
    "        accuracy_history.append(accuracy(pred, batch_y))\n",
    "        displays_steps.append(step)\n",
    "\n"
   ]
  },
  {
   "cell_type": "code",
   "execution_count": null,
   "metadata": {
    "id": "_yCBfG6MbQB2"
   },
   "outputs": [],
   "source": [
    "# Wykreśl zmianę dokładności i strat jako funkcję skoku\n",
    "# Jeśli zostanie to zrobione poprawnie, dokładność powinna wzrosnąć, a straty powinny się zmniejszyć.\n",
    "\n",
    "plt.subplot(1, 2, 1)\n",
    "plt.plot(displays_steps, loss_history, color='g')\n",
    "plt.grid(True)\n",
    "plt.legend([\"loss history\"])\n",
    "plt.subplot(1, 2, 2)\n",
    "plt.plot(displays_steps, accuracy_history, color='b')\n",
    "plt.grid(True)\n",
    "plt.legend([\"accuracy history\"])"
   ]
  },
  {
   "cell_type": "code",
   "execution_count": null,
   "metadata": {
    "id": "LE3g4gDyUSNY"
   },
   "outputs": [],
   "source": [
    "# Oblicz dokładność wytrenowanej sieci neuronowej\n",
    "\n",
    "acc = accuracy(neural_net(x_test), y_test)\n",
    "print(acc)"
   ]
  },
  {
   "cell_type": "code",
   "execution_count": null,
   "metadata": {
    "id": "_EEHAubOUSNY"
   },
   "outputs": [],
   "source": [
    "# Przetestuj wytrenowaną sieć neuronową na 10 obrazach. Z próbki testowej wybierz 5\n",
    "# losowych obrazów i wprowadź je do sieci neuronowej.\n",
    "# Wyprowadź obraz i zapisz obok niego odpowiedź sieci neuronowej.\n",
    "# Czy sieć neuronowa się myli, a jeśli tak, to jak często?\n",
    "\n",
    "sample_num = 64\n",
    "x1 = x_test[sample_num].reshape(28, 28)\n",
    "print(y_test[sample_num])\n",
    "plt.imshow(x1)"
   ]
  }
 ],
 "metadata": {
  "colab": {
   "provenance": []
  },
  "kernelspec": {
   "display_name": "Python 3 (ipykernel)",
   "language": "python",
   "name": "python3"
  },
  "language_info": {
   "codemirror_mode": {
    "name": "ipython",
    "version": 3
   },
   "file_extension": ".py",
   "mimetype": "text/x-python",
   "name": "python",
   "nbconvert_exporter": "python",
   "pygments_lexer": "ipython3",
   "version": "3.11.9"
  }
 },
 "nbformat": 4,
 "nbformat_minor": 4
}
