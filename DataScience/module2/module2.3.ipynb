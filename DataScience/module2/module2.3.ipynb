{
 "cells": [
  {
   "cell_type": "code",
   "execution_count": 1,
   "metadata": {},
   "outputs": [],
   "source": [
    "import pandas as pd\n",
    "import numpy as np\n",
    "import matplotlib.pyplot as plt\n",
    "import seaborn as sns\n",
    "\n",
    "books = pd.read_csv(\"bestsellers_with_categories.csv\")\n"
   ]
  },
  {
   "cell_type": "markdown",
   "metadata": {},
   "source": [
    "Wyświetl pierwsze pięć wierszy (użyj funkcji head)"
   ]
  },
  {
   "cell_type": "code",
   "execution_count": 2,
   "metadata": {},
   "outputs": [
    {
     "name": "stdout",
     "output_type": "stream",
     "text": [
      "Pierwsze pięć wierszy:\n",
      "<bound method NDFrame.head of                                                   Name  \\\n",
      "0                        10-Day Green Smoothie Cleanse   \n",
      "1                                    11/22/63: A Novel   \n",
      "2              12 Rules for Life: An Antidote to Chaos   \n",
      "3                               1984 (Signet Classics)   \n",
      "4    5,000 Awesome Facts (About Everything!) (Natio...   \n",
      "..                                                 ...   \n",
      "545       Wrecking Ball (Diary of a Wimpy Kid Book 14)   \n",
      "546  You Are a Badass: How to Stop Doubting Your Gr...   \n",
      "547  You Are a Badass: How to Stop Doubting Your Gr...   \n",
      "548  You Are a Badass: How to Stop Doubting Your Gr...   \n",
      "549  You Are a Badass: How to Stop Doubting Your Gr...   \n",
      "\n",
      "                       Author  User Rating  Reviews  Price  Year        Genre  \n",
      "0                    JJ Smith          4.7    17350      8  2016  Non Fiction  \n",
      "1                Stephen King          4.6     2052     22  2011      Fiction  \n",
      "2          Jordan B. Peterson          4.7    18979     15  2018  Non Fiction  \n",
      "3               George Orwell          4.7    21424      6  2017      Fiction  \n",
      "4    National Geographic Kids          4.8     7665     12  2019  Non Fiction  \n",
      "..                        ...          ...      ...    ...   ...          ...  \n",
      "545               Jeff Kinney          4.9     9413      8  2019      Fiction  \n",
      "546               Jen Sincero          4.7    14331      8  2016  Non Fiction  \n",
      "547               Jen Sincero          4.7    14331      8  2017  Non Fiction  \n",
      "548               Jen Sincero          4.7    14331      8  2018  Non Fiction  \n",
      "549               Jen Sincero          4.7    14331      8  2019  Non Fiction  \n",
      "\n",
      "[550 rows x 7 columns]>\n"
     ]
    }
   ],
   "source": [
    "print(\"Pierwsze pięć wierszy:\")\n",
    "print(books.head)"
   ]
  },
  {
   "cell_type": "markdown",
   "metadata": {},
   "source": [
    "Wyświetl wymiary zbioru danych (użyj atrybutu shape)"
   ]
  },
  {
   "cell_type": "code",
   "execution_count": 3,
   "metadata": {},
   "outputs": [
    {
     "name": "stdout",
     "output_type": "stream",
     "text": [
      "(550, 7)\n"
     ]
    }
   ],
   "source": [
    "print(books.shape)"
   ]
  },
  {
   "cell_type": "markdown",
   "metadata": {},
   "source": [
    "O ilu książkach przechowywane są dane w zbiorze danych?"
   ]
  },
  {
   "cell_type": "code",
   "execution_count": 4,
   "metadata": {},
   "outputs": [
    {
     "name": "stdout",
     "output_type": "stream",
     "text": [
      "Zbiór danych przechowuje informacje o 550 ksiazkach.\n"
     ]
    }
   ],
   "source": [
    "print(f\"Zbiór danych przechowuje informacje o {books.shape[0]} ksiazkach.\")"
   ]
  },
  {
   "cell_type": "markdown",
   "metadata": {},
   "source": [
    "Zmiana nazw kolumn:"
   ]
  },
  {
   "cell_type": "code",
   "execution_count": 5,
   "metadata": {},
   "outputs": [
    {
     "name": "stdout",
     "output_type": "stream",
     "text": [
      "                                                  name  \\\n",
      "0                        10-Day Green Smoothie Cleanse   \n",
      "1                                    11/22/63: A Novel   \n",
      "2              12 Rules for Life: An Antidote to Chaos   \n",
      "3                               1984 (Signet Classics)   \n",
      "4    5,000 Awesome Facts (About Everything!) (Natio...   \n",
      "..                                                 ...   \n",
      "545       Wrecking Ball (Diary of a Wimpy Kid Book 14)   \n",
      "546  You Are a Badass: How to Stop Doubting Your Gr...   \n",
      "547  You Are a Badass: How to Stop Doubting Your Gr...   \n",
      "548  You Are a Badass: How to Stop Doubting Your Gr...   \n",
      "549  You Are a Badass: How to Stop Doubting Your Gr...   \n",
      "\n",
      "                       author  user_rating  reviews  price  year        genre  \n",
      "0                    JJ Smith          4.7    17350      8  2016  Non Fiction  \n",
      "1                Stephen King          4.6     2052     22  2011      Fiction  \n",
      "2          Jordan B. Peterson          4.7    18979     15  2018  Non Fiction  \n",
      "3               George Orwell          4.7    21424      6  2017      Fiction  \n",
      "4    National Geographic Kids          4.8     7665     12  2019  Non Fiction  \n",
      "..                        ...          ...      ...    ...   ...          ...  \n",
      "545               Jeff Kinney          4.9     9413      8  2019      Fiction  \n",
      "546               Jen Sincero          4.7    14331      8  2016  Non Fiction  \n",
      "547               Jen Sincero          4.7    14331      8  2017  Non Fiction  \n",
      "548               Jen Sincero          4.7    14331      8  2018  Non Fiction  \n",
      "549               Jen Sincero          4.7    14331      8  2019  Non Fiction  \n",
      "\n",
      "[550 rows x 7 columns]\n"
     ]
    }
   ],
   "source": [
    "books.columns = ['name', 'author', 'user_rating', 'reviews', 'price', 'year', 'genre']\n",
    "print(books)"
   ]
  },
  {
   "cell_type": "markdown",
   "metadata": {},
   "source": [
    "## Pierwotne badanie danych"
   ]
  },
  {
   "cell_type": "markdown",
   "metadata": {},
   "source": [
    "Sprawdź, czy wszystkie wiersze zawierają wystarczającą ilość danych: wypisz liczbę pustych miejsc (na) w każdej kolumnie (użyj funkcji isna i sum)."
   ]
  },
  {
   "cell_type": "code",
   "execution_count": 6,
   "metadata": {},
   "outputs": [
    {
     "name": "stdout",
     "output_type": "stream",
     "text": [
      "name           0\n",
      "author         0\n",
      "user_rating    0\n",
      "reviews        0\n",
      "price          0\n",
      "year           0\n",
      "genre          0\n",
      "dtype: int64\n"
     ]
    }
   ],
   "source": [
    "books_count_na = books.isna().sum()\n",
    "print(books_count_na)"
   ]
  },
  {
   "cell_type": "markdown",
   "metadata": {},
   "source": [
    "Czy są jakieś zmienne z brakującymi wartościami? Odpowiedź: Nie"
   ]
  },
  {
   "cell_type": "markdown",
   "metadata": {},
   "source": [
    "Sprawdź unikalne wartości w kolumnie genre (użyj funkcji unique)."
   ]
  },
  {
   "cell_type": "code",
   "execution_count": 7,
   "metadata": {},
   "outputs": [
    {
     "name": "stdout",
     "output_type": "stream",
     "text": [
      "['Non Fiction' 'Fiction']\n"
     ]
    }
   ],
   "source": [
    "books_genre_unique = books[\"genre\"].unique()\n",
    "print(books_genre_unique)"
   ]
  },
  {
   "cell_type": "markdown",
   "metadata": {},
   "source": [
    "Jakie są unikalne gatunki? Odpowiedź: 'Non Fiction' i 'Fiction'"
   ]
  },
  {
   "cell_type": "markdown",
   "metadata": {},
   "source": [
    "Teraz spójrz na rozkład cen: zbuduj wykres (użyj kind='hist')"
   ]
  },
  {
   "cell_type": "code",
   "execution_count": 8,
   "metadata": {},
   "outputs": [
    {
     "data": {
      "image/png": "[encoded data removed]",
      "text/plain": [
       "<Figure size 640x480 with 1 Axes>"
      ]
     },
     "metadata": {},
     "output_type": "display_data"
    }
   ],
   "source": [
    "plt.hist(books[\"price\"], bins=20)\n",
    "plt.title(\"Histogram - rozkład cen książek\")\n",
    "plt.show()"
   ]
  },
  {
   "cell_type": "markdown",
   "metadata": {},
   "source": [
    "Określ maksymalną, minimalną, średnią i medianową cenę (użyj funkcji max, min, mean, median)."
   ]
  },
  {
   "cell_type": "code",
   "execution_count": 9,
   "metadata": {},
   "outputs": [
    {
     "name": "stdout",
     "output_type": "stream",
     "text": [
      "Cena maksymalna to:  105\n",
      "Cena minimalna to:  0\n",
      "Średnia to:  13.1\n",
      "Mediana to:  11.0\n"
     ]
    }
   ],
   "source": [
    "print(\"Cena maksymalna to: \", books[\"price\"].max())\n",
    "print(\"Cena minimalna to: \", books[\"price\"].min())\n",
    "print(\"Średnia to: \", books[\"price\"].mean())\n",
    "print(\"Mediana to: \", books[\"price\"].median())"
   ]
  },
  {
   "cell_type": "markdown",
   "metadata": {},
   "source": [
    "## Wyszukiwanie i sortowanie danych"
   ]
  },
  {
   "cell_type": "code",
   "execution_count": 10,
   "metadata": {},
   "outputs": [
    {
     "name": "stdout",
     "output_type": "stream",
     "text": [
      "Jaka jest najwyższa ocena w zbiorze danych?\n",
      "Odpowiedź: Najwyższa ocena w zbiorze danych to:  4.9\n"
     ]
    }
   ],
   "source": [
    "print(\"Jaka jest najwyższa ocena w zbiorze danych?\")\n",
    "max_price = books[\"user_rating\"].max()\n",
    "print(\"Odpowiedź: Najwyższa ocena w zbiorze danych to: \", max_price)"
   ]
  },
  {
   "cell_type": "code",
   "execution_count": 11,
   "metadata": {},
   "outputs": [
    {
     "name": "stdout",
     "output_type": "stream",
     "text": [
      "\n",
      "Ile książek ma taką ocenę?\n",
      "Odpowiedź: 52 książek ma taką ocenę.\n"
     ]
    }
   ],
   "source": [
    "print(\"\\nIle książek ma taką ocenę?\")\n",
    "max_price = books[\"user_rating\"].max()\n",
    "count_books_max_price = books[books[\"user_rating\"] == max_price].shape[0]\n",
    "print(f\"Odpowiedź: {count_books_max_price} książek ma taką ocenę.\")"
   ]
  },
  {
   "cell_type": "code",
   "execution_count": 12,
   "metadata": {},
   "outputs": [
    {
     "name": "stdout",
     "output_type": "stream",
     "text": [
      "\n",
      "Która książka ma najwięcej wyświetleń?\n",
      "Odpowiedź: Najwięcej wyświetleń ma ksiażka:  534    Where the Crawdads Sing\n",
      "Name: name, dtype: object\n"
     ]
    }
   ],
   "source": [
    "print(\"\\nKtóra książka ma najwięcej wyświetleń?\")\n",
    "max_reviews = books[\"reviews\"].max()\n",
    "book_max_reviews = books[books[\"reviews\"] == max_reviews][\"name\"]\n",
    "print(\"Odpowiedź: Najwięcej wyświetleń ma ksiażka: \", book_max_reviews)"
   ]
  },
  {
   "cell_type": "code",
   "execution_count": 13,
   "metadata": {},
   "outputs": [
    {
     "name": "stdout",
     "output_type": "stream",
     "text": [
      "\n",
      "Która z książek z Top 50 w 2015 roku jest najdroższa?\n",
      "name           Publication Manual of the American Psychologic...\n",
      "author                        American Psychological Association\n",
      "user_rating                                                  4.5\n",
      "reviews                                                     8580\n",
      "price                                                         46\n",
      "year                                                        2015\n",
      "genre                                                Non Fiction\n",
      "Name: 277, dtype: object\n"
     ]
    }
   ],
   "source": [
    "print(\"\\nKtóra z książek z Top 50 w 2015 roku jest najdroższa?\")\n",
    "books_2015 = books[books[\"year\"] == 2015]\n",
    "books_2015_top50 = books_2015.nlargest(50, \"user_rating\")\n",
    "books_2015_top50_max_price = books_2015_top50.loc[books_2015_top50[\"price\"].idxmax()]\n",
    "print(books_2015_top50_max_price)"
   ]
  },
  {
   "cell_type": "code",
   "execution_count": 14,
   "metadata": {},
   "outputs": [
    {
     "name": "stdout",
     "output_type": "stream",
     "text": [
      "Ile książek z gatunku Fiction znalazło się w Top 50 w 2010 roku\n",
      "Odpowiedź: W top 50 znalazło się 20 książek z 2010 i gatunku Fiction.\n"
     ]
    }
   ],
   "source": [
    "print(\"Ile książek z gatunku Fiction znalazło się w Top 50 w 2010 roku\")\n",
    "books_2010_non_fiction = books[(books[\"year\"] == 2010) & (books[\"genre\"] == \"Fiction\")]\n",
    "books_2010_non_fiction_top50 = books_2010_non_fiction.nlargest(50, \"user_rating\").shape[0]\n",
    "print(f\"Odpowiedź: W top 50 znalazło się {books_2010_non_fiction_top50} książek z 2010 i gatunku Fiction.\")"
   ]
  },
  {
   "cell_type": "code",
   "execution_count": 15,
   "metadata": {},
   "outputs": [
    {
     "name": "stdout",
     "output_type": "stream",
     "text": [
      "Ile książek z oceną 4,9 znalazło się w rankingu w 2010 i 2011 roku?\n",
      "Odpowiedź: 1 książka/książek.\n"
     ]
    }
   ],
   "source": [
    "print(\"Ile książek z oceną 4,9 znalazło się w rankingu w 2010 i 2011 roku?\")\n",
    "books_user_rating = books[books[\"user_rating\"] == 4.9]\n",
    "\n",
    "books_2010_top50 = (books[books[\"year\"] == 2010]).nlargest(50, \"user_rating\")\n",
    "books_2011_top50 = (books[books[\"year\"] == 2011]).nlargest(50, \"user_rating\")\n",
    "books_user_rating_in_books_2010_top50 = books_2010_top50[\"user_rating\"].isin([4.9])\n",
    "books_user_rating_in_books_2011_top50 = books_2011_top50[\"user_rating\"].isin([4.9])\n",
    "count_books_user_rating_in_books_2010_top50 = books_2010_top50[books_user_rating_in_books_2010_top50].shape[0]\n",
    "count_books_user_rating_in_books_2011_top50 = books_2011_top50[books_user_rating_in_books_2011_top50].shape[0]\n",
    "total = count_books_user_rating_in_books_2010_top50 + count_books_user_rating_in_books_2011_top50\n",
    "print(f\"Odpowiedź: {total} książka/książek.\")\n"
   ]
  },
  {
   "cell_type": "code",
   "execution_count": 16,
   "metadata": {},
   "outputs": [
    {
     "name": "stdout",
     "output_type": "stream",
     "text": [
      "I na koniec posortujmy rosnąco według ceny wszystkie książki, które znalazły się w rankingu w 2015 roku i kosztowały mniej niż 8 dolarów\n",
      "                                                  name              author  \\\n",
      "507                              To Kill a Mockingbird          Harper Lee   \n",
      "111                                    First 100 Words        Roger Priddy   \n",
      "123                               Giraffes Can't Dance       Giles Andreae   \n",
      "210                      Laugh-Out-Loud Jokes for Kids         Rob Elliott   \n",
      "54   Creative Haven Creative Cats Coloring Book (Ad...     Marjorie Sarnat   \n",
      "206                         Knock-Knock Jokes for Kids         Rob Elliott   \n",
      "28                        Baby Touch and Feel: Animals                  DK   \n",
      "201  Killing Reagan: The Violent Assault That Chang...       Bill O'Reilly   \n",
      "89   Dover Creative Haven Art Nouveau Animal Design...         Marty Noble   \n",
      "478                        The Very Hungry Caterpillar          Eric Carle   \n",
      "55   Creative Haven Owls Coloring Book (Adult Color...     Marjorie Sarnat   \n",
      "224                                   Love You Forever       Robert Munsch   \n",
      "63                      Dear Zoo: A Lift-the-Flap Book        Rod Campbell   \n",
      "16   Adult Coloring Book: Stress Relieving Animal D...  Blue Star Coloring   \n",
      "376  The Four Agreements: A Practical Guide to Pers...     Don Miguel Ruiz   \n",
      "17      Adult Coloring Book: Stress Relieving Patterns  Blue Star Coloring   \n",
      "253              Old School (Diary of a Wimpy Kid #10)         Jeff Kinney   \n",
      "\n",
      "     user_rating  reviews  price  year        genre  \n",
      "507          4.8    26234      0  2015      Fiction  \n",
      "111          4.7    17323      4  2015  Non Fiction  \n",
      "123          4.8    14038      4  2015      Fiction  \n",
      "210          4.6     6990      4  2015  Non Fiction  \n",
      "54           4.8     4022      4  2015  Non Fiction  \n",
      "206          4.5     3673      4  2015  Non Fiction  \n",
      "28           4.6     5360      5  2015  Non Fiction  \n",
      "201          4.6     5235      5  2015  Non Fiction  \n",
      "89           4.6     2134      5  2015  Non Fiction  \n",
      "478          4.9    19546      5  2015      Fiction  \n",
      "55           4.8     3871      5  2015  Non Fiction  \n",
      "224          4.8    18613      5  2015      Fiction  \n",
      "63           4.8    10922      5  2015      Fiction  \n",
      "16           4.6     2925      6  2015  Non Fiction  \n",
      "376          4.7    23308      6  2015  Non Fiction  \n",
      "17           4.4     2951      6  2015  Non Fiction  \n",
      "253          4.8     6169      7  2015      Fiction  \n"
     ]
    }
   ],
   "source": [
    "print(\"I na koniec posortujmy rosnąco według ceny wszystkie książki, które znalazły się w rankingu w 2015 roku i kosztowały mniej niż 8 dolarów\")\n",
    "books_2015_less8dolar_top50 = (books[(books[\"year\"] == 2015) & (books[\"price\"] < 8)]).nlargest(50, \"user_rating\").sort_values(\"price\")\n",
    "print(books_2015_less8dolar_top50)"
   ]
  },
  {
   "cell_type": "code",
   "execution_count": 17,
   "metadata": {},
   "outputs": [
    {
     "name": "stdout",
     "output_type": "stream",
     "text": [
      "Która książka jest ostatnia na posortowanej liście?\n",
      "Odpowiedź: Ostatnia książka na posortowanej liście to: Old School (Diary of a Wimpy Kid #10)\n"
     ]
    }
   ],
   "source": [
    "print(\"Która książka jest ostatnia na posortowanej liście?\")\n",
    "books_2015_less8dolar_top50 = (books[(books[\"year\"] == 2015) & (books[\"price\"] < 8)]).nlargest(50, \"user_rating\").sort_values(\"price\")\n",
    "books_2015_less8dolar_top50_last = books_2015_less8dolar_top50.tail(1)[\"name\"].values[0]\n",
    "print(f\"Odpowiedź: Ostatnia książka na posortowanej liście to: {books_2015_less8dolar_top50_last}\")"
   ]
  },
  {
   "cell_type": "markdown",
   "metadata": {},
   "source": [
    "## Agregacja danych i łączenie tabel"
   ]
  },
  {
   "cell_type": "code",
   "execution_count": 18,
   "metadata": {},
   "outputs": [
    {
     "name": "stdout",
     "output_type": "stream",
     "text": [
      "         genre  min  max\n",
      "0      Fiction    0   82\n",
      "1  Non Fiction    0  105\n",
      "\n",
      "Maksymalna cena dla gatunku Fiction: 82\n",
      "Maksymalna cena dla gatunku Fiction: 0\n",
      "\n",
      "Maksymalna cena dla gatunku Non Fiction: 105\n",
      "Maksymalna cena dla gatunku Non Fiction: 0\n"
     ]
    }
   ],
   "source": [
    "books_grouped_by_genre_stats = books.groupby(\"genre\")[\"price\"].agg([\"min\", \"max\"]).reset_index()\n",
    "print(books_grouped_by_genre_stats)\n",
    "\n",
    "books_max_price_fiction = books_grouped_by_genre_stats[books_grouped_by_genre_stats[\"genre\"] == \"Fiction\"][\"max\"].values[0]\n",
    "print(f\"\\nMaksymalna cena dla gatunku Fiction: {books_max_price_fiction}\")\n",
    "\n",
    "books_min_price_fiction = books_grouped_by_genre_stats[books_grouped_by_genre_stats[\"genre\"] == \"Fiction\"][\"min\"].values[0]\n",
    "print(f\"Maksymalna cena dla gatunku Fiction: {books_min_price_fiction}\")\n",
    "\n",
    "books_max_price_non_fiction = books_grouped_by_genre_stats[books_grouped_by_genre_stats[\"genre\"] == \"Non Fiction\"][\"max\"].values[0]\n",
    "print(f\"\\nMaksymalna cena dla gatunku Non Fiction: {books_max_price_non_fiction}\")\n",
    "\n",
    "books_min_price_non_fiction = books_grouped_by_genre_stats[books_grouped_by_genre_stats[\"genre\"] == \"Non Fiction\"][\"min\"].values[0]\n",
    "print(f\"Maksymalna cena dla gatunku Non Fiction: {books_min_price_non_fiction}\")\n",
    "\n"
   ]
  },
  {
   "cell_type": "code",
   "execution_count": 19,
   "metadata": {},
   "outputs": [
    {
     "name": "stdout",
     "output_type": "stream",
     "text": [
      "Wymiar tabeli to: (248, 2)\n",
      "\n",
      "Najwięcej książek ma autor: Jeff Kinney\n",
      "\n",
      "Jeff Kinney ma 12 książek.\n"
     ]
    }
   ],
   "source": [
    "count_books_groupped_by_author = books.groupby(\"author\")[\"name\"].agg(\"count\").reset_index().rename(columns={\"name\": \"book_count\"})\n",
    "\n",
    "print(f\"Wymiar tabeli to: {count_books_groupped_by_author.shape}\")\n",
    "\n",
    "max_number_of_books = count_books_groupped_by_author[\"book_count\"].max()\n",
    "has_max_number_of_books = count_books_groupped_by_author[count_books_groupped_by_author[\"book_count\"] == max_number_of_books][\"author\"].values[0]\n",
    "print(f\"\\nNajwięcej książek ma autor: {has_max_number_of_books}\")\n",
    "\n",
    "print(f\"\\n{has_max_number_of_books} ma {max_number_of_books} książek.\")"
   ]
  },
  {
   "cell_type": "code",
   "execution_count": 20,
   "metadata": {},
   "outputs": [
    {
     "name": "stdout",
     "output_type": "stream",
     "text": [
      "Wymiar tabeli to: (248, 2)\n",
      "\n",
      "Donna Tartt ma najniższą średnią, która wynosi: 3.9.\n"
     ]
    }
   ],
   "source": [
    "avg_ratings_books_groupped_by_author = books.groupby(\"author\")[\"user_rating\"].agg(\"mean\").reset_index().rename(columns={\"user_rating\": \"avg_user_rating\"})\n",
    "print(f\"Wymiar tabeli to: {avg_ratings_books_groupped_by_author.shape}\")\n",
    "min_avg_rating = avg_ratings_books_groupped_by_author[\"avg_user_rating\"].agg(\"min\")\n",
    "min_avg_rating_books = avg_ratings_books_groupped_by_author[avg_ratings_books_groupped_by_author[\"avg_user_rating\"] == min_avg_rating]\n",
    "min_avg_rating_books_author = min_avg_rating_books[\"author\"].values[0]\n",
    "print(f\"\\n{min_avg_rating_books_author} ma najniższą średnią, która wynosi: {min_avg_rating}.\")"
   ]
  },
  {
   "cell_type": "code",
   "execution_count": 21,
   "metadata": {},
   "outputs": [
    {
     "name": "stdout",
     "output_type": "stream",
     "text": [
      "Książki posortowane wg liczby książek, rosnąco:\n",
      "\n",
      "                                 author  book_count  avg_user_rating\n",
      "123                          Jill Twiss           1         4.900000\n",
      "178                      Patrick Thorpe           1         4.900000\n",
      "109                   Ian K. Smith M.D.           1         4.100000\n",
      "108                        Howard Stern           1         4.300000\n",
      "107                     Hopscotch Girls           1         4.800000\n",
      "..                                  ...         ...              ...\n",
      "11   American Psychological Association          10         4.500000\n",
      "226                     Suzanne Collins          11         4.663636\n",
      "92                         Gary Chapman          11         4.736364\n",
      "197                        Rick Riordan          11         4.772727\n",
      "120                         Jeff Kinney          12         4.800000\n",
      "\n",
      "[248 rows x 3 columns]\n",
      "\n",
      "Pierwszy(a) na liście jest: Jill Twiss.\n",
      "\n",
      "Książki posortowane wg średniej oceny, rosnąco:\n",
      "\n",
      "                 author  book_count  avg_user_rating\n",
      "71          Donna Tartt           2              3.9\n",
      "100       Gillian Flynn           3              4.0\n",
      "171      Muriel Barbery           1              4.0\n",
      "90               Gallup           9              4.0\n",
      "109   Ian K. Smith M.D.           1              4.1\n",
      "..                  ...         ...              ...\n",
      "146  Lin-Manuel Miranda           1              4.9\n",
      "178      Patrick Thorpe           1              4.9\n",
      "173      Nathan W. Pyle           1              4.9\n",
      "26      Bill Martin Jr.           2              4.9\n",
      "123          Jill Twiss           1              4.9\n",
      "\n",
      "[248 rows x 3 columns]\n",
      "\n",
      "Pierwszy(a) na liście jest: Donna Tartt.\n"
     ]
    }
   ],
   "source": [
    "count_books_groupped_by_author = books.groupby(\"author\")[\"name\"].agg(\"count\")\n",
    "avg_ratings_books_groupped_by_author = books.groupby(\"author\")[\"user_rating\"].agg(\"mean\")\n",
    "\n",
    "authors_count_avg = pd.concat([count_books_groupped_by_author, avg_ratings_books_groupped_by_author], axis=1).reset_index().rename(columns={\"name\":\"book_count\", \"user_rating\":\"avg_user_rating\"})\n",
    "authors_count_avg_sorted_book_count = authors_count_avg.sort_values(\"book_count\")\n",
    "authors_count_avg_sorted_avg_user_rating = authors_count_avg.sort_values(\"avg_user_rating\")\n",
    "print(\"Książki posortowane wg liczby książek, rosnąco:\\n\")\n",
    "print(authors_count_avg_sorted_book_count)\n",
    "first_authors_count_avg_sorted_book_count = authors_count_avg_sorted_book_count.head(1)[\"author\"].values[0]\n",
    "print(f\"\\nPierwszy(a) na liście jest: {first_authors_count_avg_sorted_book_count}.\")\n",
    "print(\"\\nKsiążki posortowane wg średniej oceny, rosnąco:\\n\")\n",
    "print(authors_count_avg_sorted_avg_user_rating)\n",
    "first_authors_count_avg_sorted_avg_user_rating = authors_count_avg_sorted_avg_user_rating.head(1)[\"author\"].values[0]\n",
    "print(f\"\\nPierwszy(a) na liście jest: {first_authors_count_avg_sorted_avg_user_rating}.\")"
   ]
  },
  {
   "cell_type": "markdown",
   "metadata": {},
   "source": [
    "## Dodatkowe wykresy"
   ]
  },
  {
   "cell_type": "code",
   "execution_count": 22,
   "metadata": {},
   "outputs": [
    {
     "name": "stdout",
     "output_type": "stream",
     "text": [
      "genre\n",
      "Fiction        240\n",
      "Non Fiction    310\n",
      "Name: genre, dtype: int64\n"
     ]
    },
    {
     "data": {
      "image/png": "[encoded data removed]",
      "text/plain": [
       "<Figure size 640x480 with 1 Axes>"
      ]
     },
     "metadata": {},
     "output_type": "display_data"
    }
   ],
   "source": [
    "count_books_grouped_by_genre = books.groupby(\"genre\")[\"genre\"].agg(\"count\")\n",
    "print(count_books_grouped_by_genre)\n",
    "\n",
    "labels = count_books_grouped_by_genre.index\n",
    "data = count_books_grouped_by_genre.values\n",
    "\n",
    "plt.pie(\n",
    "    data,\n",
    "    labels=labels,\n",
    "    autopct=\"%.2f%%\",\n",
    "    pctdistance=0.45,\n",
    "    labeldistance=0.65,\n",
    ")\n",
    "plt.title(\"Rozkład procentowy gatunków książek\")\n",
    "plt.show()\n"
   ]
  },
  {
   "cell_type": "code",
   "execution_count": 23,
   "metadata": {},
   "outputs": [
    {
     "name": "stdout",
     "output_type": "stream",
     "text": [
      "year\n",
      "2009    15.40\n",
      "2010    13.48\n",
      "2011    15.10\n",
      "2012    15.30\n",
      "2013    14.60\n",
      "2014    14.64\n",
      "2015    10.42\n",
      "2016    13.18\n",
      "2017    11.38\n",
      "2018    10.52\n",
      "2019    10.08\n",
      "Name: price, dtype: float64\n"
     ]
    },
    {
     "data": {
      "image/png": "[encoded data removed]",
      "text/plain": [
       "<Figure size 640x480 with 1 Axes>"
      ]
     },
     "metadata": {},
     "output_type": "display_data"
    }
   ],
   "source": [
    "mean_books_grouped_by_years = books.groupby(\"year\")[\"price\"].agg(\"mean\")\n",
    "print(mean_books_grouped_by_years)\n",
    "\n",
    "labels = mean_books_grouped_by_years.index\n",
    "data = mean_books_grouped_by_years.values\n",
    "plt.plot(\n",
    "    labels,\n",
    "    data,\n",
    "    linestyle=\":\",\n",
    "    color=\"#061358\",\n",
    "    marker=\"s\"\n",
    ")\n",
    "\n",
    "plt.title(\"Średnia cena książek przez lata\")\n",
    "plt.show()"
   ]
  },
  {
   "cell_type": "code",
   "execution_count": 24,
   "metadata": {},
   "outputs": [
    {
     "name": "stdout",
     "output_type": "stream",
     "text": [
      "      min   mean  max\n",
      "year                 \n",
      "2009  4.0  4.584  4.8\n",
      "2010  4.0  4.558  4.8\n",
      "2011  4.0  4.558  4.9\n",
      "2012  3.3  4.532  4.9\n",
      "2013  3.8  4.554  4.9\n",
      "2014  3.9  4.622  4.9\n",
      "2015  3.6  4.648  4.9\n",
      "2016  4.0  4.678  4.9\n",
      "2017  4.0  4.660  4.9\n",
      "2018  4.2  4.668  4.9\n",
      "2019  4.3  4.740  4.9\n"
     ]
    },
    {
     "data": {
      "text/plain": [
       "[Text(0.5, 1.0, 'Statystyki ocen w ciągu lat')]"
      ]
     },
     "execution_count": 24,
     "metadata": {},
     "output_type": "execute_result"
    },
    {
     "data": {
      "image/png": "[encoded data removed]",
      "text/plain": [
       "<Figure size 640x480 with 1 Axes>"
      ]
     },
     "metadata": {},
     "output_type": "display_data"
    }
   ],
   "source": [
    "stats_user_rating_books_grouped_by_years = books.groupby(\"year\")[\"user_rating\"].agg([\"min\", \"mean\", \"max\"])\n",
    "print(stats_user_rating_books_grouped_by_years)\n",
    "sns.scatterplot(data=stats_user_rating_books_grouped_by_years, markers=\"vD^\").set(title=\"Statystyki ocen w ciągu lat\")\n",
    "\n"
   ]
  }
 ],
 "metadata": {
  "kernelspec": {
   "display_name": "Python 3",
   "language": "python",
   "name": "python3"
  },
  "language_info": {
   "codemirror_mode": {
    "name": "ipython",
    "version": 3
   },
   "file_extension": ".py",
   "mimetype": "text/x-python",
   "name": "python",
   "nbconvert_exporter": "python",
   "pygments_lexer": "ipython3",
   "version": "3.11.8"
  }
 },
 "nbformat": 4,
 "nbformat_minor": 2
}
