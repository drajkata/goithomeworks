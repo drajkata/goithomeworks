{
 "cells": [
  {
   "cell_type": "code",
   "execution_count": null,
   "id": "4008596f-439e-471e-89e4-1dcf05ab41e6",
   "metadata": {},
   "outputs": [],
   "source": [
    "import numpy as np\n",
    "import random"
   ]
  },
  {
   "cell_type": "markdown",
   "id": "b8c8a9c9-3029-4c14-8b70-a8a857e933ca",
   "metadata": {},
   "source": [
    "### 1. Utwórz jednowymiarową tablicę (wektor) z pierwszymi 10 dodatnimi liczbami całkowitymi i wyświetl jej wartość."
   ]
  },
  {
   "cell_type": "code",
   "execution_count": 25,
   "id": "913b8925-3a14-46b6-8424-d7c4a28a2ca0",
   "metadata": {},
   "outputs": [
    {
     "name": "stdout",
     "output_type": "stream",
     "text": [
      "[ 1  2  3  4  5  6  7  8  9 10]\n"
     ]
    }
   ],
   "source": [
    "a = np.arange(1,11)\n",
    "print(a)"
   ]
  },
  {
   "cell_type": "markdown",
   "id": "fadc7ae5-6ee1-472f-8bbf-e67e41629760",
   "metadata": {},
   "source": [
    "### 2. Utwórz dwuwymiarową tablicę (macierz) o rozmiarze 3x3, wypełnij ją zerami i wyświetl jej wartość."
   ]
  },
  {
   "cell_type": "code",
   "execution_count": 15,
   "id": "02d4a252-9a0e-4160-ae04-785e28e151a7",
   "metadata": {},
   "outputs": [
    {
     "name": "stdout",
     "output_type": "stream",
     "text": [
      "[[0 0 0]\n",
      " [0 0 0]\n",
      " [0 0 0]]\n"
     ]
    }
   ],
   "source": [
    "a = np.zeros((3, 3), dtype=\"u4\")\n",
    "print(a)"
   ]
  },
  {
   "cell_type": "markdown",
   "id": "c726144c-06b4-4151-8d3b-01ce6cd4e880",
   "metadata": {},
   "source": [
    "### 3. Utwórz tablicę o rozmiarze 5x5, wypełnij ją losowymi liczbami całkowitymi z zakresu od 1 do 10 i wyświetl jej wartość."
   ]
  },
  {
   "cell_type": "code",
   "execution_count": 33,
   "id": "4aa771af-5999-4ea7-8631-22c5d9899d6f",
   "metadata": {},
   "outputs": [
    {
     "name": "stdout",
     "output_type": "stream",
     "text": [
      "[[ 1  1  2  7  8]\n",
      " [ 5  9  6  3  5]\n",
      " [ 5  2  3 10  7]\n",
      " [ 2  9  5  3  6]\n",
      " [ 1  6  3  7  1]]\n"
     ]
    }
   ],
   "source": [
    "a = np.random.randint(1, 11, size=(5, 5))\n",
    "print(a)"
   ]
  },
  {
   "cell_type": "markdown",
   "id": "7045f924-6c92-408f-90bc-e644ddd1cb1e",
   "metadata": {},
   "source": [
    "### 4. Utwórz tablicę o rozmiarze 4x4, wypełnij ją losowymi liczbami rzeczywistymi z zakresu od 0 do 1 i wyświetl jej wartość."
   ]
  },
  {
   "cell_type": "code",
   "execution_count": 34,
   "id": "bdf2e285-540e-4cbb-a9b9-0c4741830a0c",
   "metadata": {},
   "outputs": [
    {
     "name": "stdout",
     "output_type": "stream",
     "text": [
      "[[0.09169805 0.81670996 0.10839224 0.4453276 ]\n",
      " [0.43299505 0.4241837  0.83636792 0.15852357]\n",
      " [0.3788576  0.86702341 0.65161845 0.19339653]\n",
      " [0.99082771 0.09981616 0.29997582 0.18256284]]\n"
     ]
    }
   ],
   "source": [
    "a = np.random.random((4, 4))\n",
    "print(a)"
   ]
  },
  {
   "cell_type": "markdown",
   "id": "a80e4c2f-98f7-48d5-9e51-3a403d7d5b73",
   "metadata": {},
   "source": [
    "### 5. Utwórz dwie jednowymiarowe tablice o rozmiarze 5, wypełnij je losowymi liczbami całkowitymi z zakresu od 1 do 10 i wykonaj na nich operacje dodawania, odejmowania i mnożenia."
   ]
  },
  {
   "cell_type": "code",
   "execution_count": 40,
   "id": "f5af73c3-4e48-41bd-81b2-f556bb20331b",
   "metadata": {},
   "outputs": [
    {
     "name": "stdout",
     "output_type": "stream",
     "text": [
      "a = [4 5 5 9 2]\n",
      "b = [1 4 9 4 6]\n",
      "a + b = [ 5  9 14 13  8]\n",
      "a - b = [ 3  1 -4  5 -4]\n",
      "b - a = [-3 -1  4 -5  4]\n",
      "a * b = [ 4 20 45 36 12]\n"
     ]
    }
   ],
   "source": [
    "a = np.random.randint(1, 10, size=5)\n",
    "b = np.random.randint(1, 10, size=5)\n",
    "print(\"a =\", a)\n",
    "print(\"b =\", b)\n",
    "print(\"a + b =\", a+b)\n",
    "print(\"a - b =\", a-b)\n",
    "print(\"b - a =\", b-a)\n",
    "print(\"a * b =\", a*b.T)"
   ]
  },
  {
   "cell_type": "code",
   "execution_count": null,
   "id": "c6882972-fcf2-4431-af4c-5d8b1689df49",
   "metadata": {},
   "outputs": [],
   "source": []
  }
 ],
 "metadata": {
  "kernelspec": {
   "display_name": "Python 3 (ipykernel)",
   "language": "python",
   "name": "python3"
  },
  "language_info": {
   "codemirror_mode": {
    "name": "ipython",
    "version": 3
   },
   "file_extension": ".py",
   "mimetype": "text/x-python",
   "name": "python",
   "nbconvert_exporter": "python",
   "pygments_lexer": "ipython3",
   "version": "3.11.8"
  }
 },
 "nbformat": 4,
 "nbformat_minor": 5
}
