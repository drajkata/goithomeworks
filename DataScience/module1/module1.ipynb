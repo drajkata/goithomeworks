{
 "cells": [
  {
   "cell_type": "code",
   "execution_count": 114,
   "id": "4008596f-439e-471e-89e4-1dcf05ab41e6",
   "metadata": {},
   "outputs": [],
   "source": [
    "import numpy as np\n",
    "import random"
   ]
  },
  {
   "cell_type": "markdown",
   "id": "b8c8a9c9-3029-4c14-8b70-a8a857e933ca",
   "metadata": {},
   "source": [
    "### 1. Utwórz jednowymiarową tablicę (wektor) z pierwszymi 10 dodatnimi liczbami całkowitymi i wyświetl jej wartość."
   ]
  },
  {
   "cell_type": "code",
   "execution_count": 115,
   "id": "913b8925-3a14-46b6-8424-d7c4a28a2ca0",
   "metadata": {},
   "outputs": [
    {
     "name": "stdout",
     "output_type": "stream",
     "text": [
      "a = [ 1  2  3  4  5  6  7  8  9 10]\n"
     ]
    }
   ],
   "source": [
    "a = np.arange(1,11)\n",
    "print(\"a =\", a)"
   ]
  },
  {
   "cell_type": "markdown",
   "id": "fadc7ae5-6ee1-472f-8bbf-e67e41629760",
   "metadata": {},
   "source": [
    "### 2. Utwórz dwuwymiarową tablicę (macierz) o rozmiarze 3x3, wypełnij ją zerami i wyświetl jej wartość."
   ]
  },
  {
   "cell_type": "code",
   "execution_count": 116,
   "id": "02d4a252-9a0e-4160-ae04-785e28e151a7",
   "metadata": {},
   "outputs": [
    {
     "name": "stdout",
     "output_type": "stream",
     "text": [
      "a =\n",
      " [[0 0 0]\n",
      " [0 0 0]\n",
      " [0 0 0]]\n"
     ]
    }
   ],
   "source": [
    "a = np.zeros((3, 3), dtype=\"u4\")\n",
    "print(\"a =\\n\", a)"
   ]
  },
  {
   "cell_type": "markdown",
   "id": "c726144c-06b4-4151-8d3b-01ce6cd4e880",
   "metadata": {},
   "source": [
    "### 3. Utwórz tablicę o rozmiarze 5x5, wypełnij ją losowymi liczbami całkowitymi z zakresu od 1 do 10 i wyświetl jej wartość."
   ]
  },
  {
   "cell_type": "code",
   "execution_count": 117,
   "id": "4aa771af-5999-4ea7-8631-22c5d9899d6f",
   "metadata": {},
   "outputs": [
    {
     "name": "stdout",
     "output_type": "stream",
     "text": [
      "a =\n",
      " [[6 1 5 9 5]\n",
      " [3 3 3 7 5]\n",
      " [3 3 1 6 6]\n",
      " [1 8 7 8 5]\n",
      " [9 6 7 5 1]]\n"
     ]
    }
   ],
   "source": [
    "a = np.random.randint(1, 11, size=(5, 5))\n",
    "print(\"a =\\n\", a)"
   ]
  },
  {
   "cell_type": "markdown",
   "id": "7045f924-6c92-408f-90bc-e644ddd1cb1e",
   "metadata": {},
   "source": [
    "### 4. Utwórz tablicę o rozmiarze 4x4, wypełnij ją losowymi liczbami rzeczywistymi z zakresu od 0 do 1 i wyświetl jej wartość."
   ]
  },
  {
   "cell_type": "code",
   "execution_count": 118,
   "id": "bdf2e285-540e-4cbb-a9b9-0c4741830a0c",
   "metadata": {},
   "outputs": [
    {
     "name": "stdout",
     "output_type": "stream",
     "text": [
      "a =\n",
      " [[0.61971847 0.11069952 0.69397551 0.72979924]\n",
      " [0.95863162 0.62564938 0.8348982  0.68652677]\n",
      " [0.04956995 0.10037866 0.12768888 0.90435335]\n",
      " [0.72194026 0.94612791 0.87100442 0.18543937]]\n"
     ]
    }
   ],
   "source": [
    "a = np.random.random((4, 4))\n",
    "print(\"a =\\n\", a)"
   ]
  },
  {
   "cell_type": "markdown",
   "id": "a80e4c2f-98f7-48d5-9e51-3a403d7d5b73",
   "metadata": {},
   "source": [
    "### 5. Utwórz dwie jednowymiarowe tablice o rozmiarze 5, wypełnij je losowymi liczbami całkowitymi z zakresu od 1 do 10 i wykonaj na nich operacje dodawania, odejmowania i mnożenia."
   ]
  },
  {
   "cell_type": "code",
   "execution_count": 119,
   "id": "f5af73c3-4e48-41bd-81b2-f556bb20331b",
   "metadata": {},
   "outputs": [
    {
     "name": "stdout",
     "output_type": "stream",
     "text": [
      "a = [9 8 2 5 9]\n",
      "b = [5 7 9 1 5]\n",
      "a + b = [14 15 11  6 14]\n",
      "a - b = [ 4  1 -7  4  4]\n",
      "b - a = [-4 -1  7 -4 -4]\n",
      "a * 5 = [45 40 10 25 45]\n",
      "b * 5 = [25 35 45  5 25]\n",
      "a * b = [45 56 18  5 45]\n"
     ]
    }
   ],
   "source": [
    "a = np.random.randint(1, 11, size=5)\n",
    "b = np.random.randint(1, 11, size=5)\n",
    "print(\"a =\", a)\n",
    "print(\"b =\", b)\n",
    "print(\"a + b =\", a+b)\n",
    "print(\"a - b =\", a-b)\n",
    "print(\"b - a =\", b-a)\n",
    "print(\"a * 5 =\", a*5)\n",
    "print(\"b * 5 =\", b*5)\n",
    "print(\"a * b =\", a*b)"
   ]
  },
  {
   "cell_type": "markdown",
   "id": "fecbf6b5",
   "metadata": {},
   "source": [
    "### 6. Utwórz dwa wektory o rozmiarze 7, wypełnij je losowymi liczbami i znajdź ich iloczyn skalarny."
   ]
  },
  {
   "cell_type": "code",
   "execution_count": 120,
   "id": "c6882972-fcf2-4431-af4c-5d8b1689df49",
   "metadata": {},
   "outputs": [
    {
     "name": "stdout",
     "output_type": "stream",
     "text": [
      "a = [ 7  3  9  9  5 10  9]\n",
      "b = [2 6 5 8 4 5 4]\n",
      "a • b = 255\n"
     ]
    }
   ],
   "source": [
    "a = np.random.randint(1, 11, size=7)\n",
    "b = np.random.randint(1, 11, size=7)\n",
    "print(\"a =\", a)\n",
    "print(\"b =\", b)\n",
    "print(\"a • b =\", np.dot(a,b))"
   ]
  },
  {
   "cell_type": "markdown",
   "id": "b33506f4",
   "metadata": {},
   "source": [
    "### 7. Utwórz dwie macierze o rozmiarach 2x2 i 2x3, wypełnij je losowymi liczbami całkowitymi z zakresu od 1 do 10 i pomnóż je."
   ]
  },
  {
   "cell_type": "code",
   "execution_count": 121,
   "id": "6dcafe6a",
   "metadata": {},
   "outputs": [
    {
     "name": "stdout",
     "output_type": "stream",
     "text": [
      "a =\n",
      " [[1 7]\n",
      " [5 5]]\n",
      "b =\n",
      " [[6 7 2]\n",
      " [1 3 7]]\n",
      "a • b =\n",
      " [[13 28 51]\n",
      " [35 50 45]]\n"
     ]
    }
   ],
   "source": [
    "a = np.random.randint(1, 11, size=(2, 2))\n",
    "b = np.random.randint(1, 11, size=(2, 3))\n",
    "print(\"a =\\n\", a)\n",
    "print(\"b =\\n\", b)\n",
    "print(\"a • b =\\n\", np.dot(a, b))"
   ]
  },
  {
   "cell_type": "markdown",
   "id": "50d8f62f",
   "metadata": {},
   "source": [
    "### 8. Utwórz macierz o rozmiarze 3x3, wypełnij ją losowymi liczbami całkowitymi z zakresu od 1 do 10 i znajdź jej odwrotność."
   ]
  },
  {
   "cell_type": "code",
   "execution_count": 122,
   "id": "e9678030",
   "metadata": {},
   "outputs": [
    {
     "name": "stdout",
     "output_type": "stream",
     "text": [
      "a =\n",
      " [[ 4  8 10]\n",
      " [ 2  4  1]\n",
      " [ 2  5  7]]\n",
      "a_inv =\n",
      " [[ 1.4375 -0.375  -2.    ]\n",
      " [-0.75    0.5     1.    ]\n",
      " [ 0.125  -0.25   -0.    ]]\n"
     ]
    }
   ],
   "source": [
    "a = np.random.randint(1, 11, size=(3, 3))\n",
    "a_inv = np.linalg.inv(a)\n",
    "print(\"a =\\n\", a)\n",
    "print(\"a_inv =\\n\", a_inv)"
   ]
  },
  {
   "cell_type": "markdown",
   "id": "aa94e55f",
   "metadata": {},
   "source": [
    "### 9. Utwórz macierz 4x4, wypełnij ją losowymi liczbami rzeczywistymi z zakresu od 0 do 1 i przetransponuj ją."
   ]
  },
  {
   "cell_type": "code",
   "execution_count": 123,
   "id": "bdff4227",
   "metadata": {},
   "outputs": [
    {
     "name": "stdout",
     "output_type": "stream",
     "text": [
      "a =\n",
      " [[ 8  8  5 10]\n",
      " [10  3  6 10]\n",
      " [ 4  2  6  1]\n",
      " [ 9  1  5  3]]\n",
      "a^T =\n",
      " [[ 8 10  4  9]\n",
      " [ 8  3  2  1]\n",
      " [ 5  6  6  5]\n",
      " [10 10  1  3]]\n"
     ]
    }
   ],
   "source": [
    "a = np.random.randint(1, 11, size=(4, 4))\n",
    "print(\"a =\\n\", a)\n",
    "print(\"a^T =\\n\", a.T)"
   ]
  },
  {
   "cell_type": "markdown",
   "id": "8cffd039",
   "metadata": {},
   "source": [
    "### 10. Utwórz macierz o rozmiarze 3x4 i wektor o rozmiarze 4, wypełnij je losowymi liczbami całkowitymi z zakresu od 1 do 10 i pomnóż macierz przez wektor."
   ]
  },
  {
   "cell_type": "code",
   "execution_count": 124,
   "id": "fe82c2e5",
   "metadata": {},
   "outputs": [
    {
     "name": "stdout",
     "output_type": "stream",
     "text": [
      "a =\n",
      " [[ 8 10  9  9]\n",
      " [ 1  6  6 10]\n",
      " [ 1  7  2  3]]\n",
      "b =\n",
      " [7 5 3 5]\n",
      "a • b =\n",
      " [178 105  63]\n"
     ]
    }
   ],
   "source": [
    "a = np.random.randint(1, 11, size=(3, 4))\n",
    "b = np.random.randint(1, 11, size=4)\n",
    "print(\"a =\\n\", a)\n",
    "print(\"b =\\n\", b)\n",
    "print(\"a • b =\\n\", np.dot(a, b))"
   ]
  },
  {
   "cell_type": "markdown",
   "id": "7ec2bfd7",
   "metadata": {},
   "source": [
    "### 11. Utwórz macierz o rozmiarze 2x3 i wektor o rozmiarze 3, wypełnij je losowymi liczbami rzeczywistymi z zakresu od 0 do 1 i pomnóż macierz przez wektor."
   ]
  },
  {
   "cell_type": "code",
   "execution_count": 125,
   "id": "44d6737d",
   "metadata": {},
   "outputs": [
    {
     "name": "stdout",
     "output_type": "stream",
     "text": [
      "a =\n",
      " [[0.39952403 0.95737197 0.27551665]\n",
      " [0.33625177 0.31863141 0.14903921]]\n",
      "b =\n",
      " [0.40058941 0.40354985 0.72761142]\n",
      "a • b =\n",
      " [0.74686147 0.37172518]\n"
     ]
    }
   ],
   "source": [
    "a = np.random.random((2, 3))\n",
    "b = np.random.random(3)\n",
    "print(\"a =\\n\", a)\n",
    "print(\"b =\\n\", b)\n",
    "print(\"a • b =\\n\", np.dot(a, b))"
   ]
  },
  {
   "cell_type": "markdown",
   "id": "4dfe1ca2",
   "metadata": {},
   "source": [
    "### 12. Utwórz dwie macierze o rozmiarze 2x2, wypełnij je losowymi liczbami całkowitymi z zakresu od 1 do 10 i wykonaj ich mnożenie pierwiastkowe."
   ]
  },
  {
   "cell_type": "code",
   "execution_count": 126,
   "id": "d3256dd7",
   "metadata": {},
   "outputs": [
    {
     "name": "stdout",
     "output_type": "stream",
     "text": [
      "a =\n",
      " [[8 1]\n",
      " [6 7]]\n",
      "b =\n",
      " [[ 4  5]\n",
      " [10 10]]\n",
      "a * b =\n",
      " [[32  5]\n",
      " [60 70]]\n"
     ]
    }
   ],
   "source": [
    "a = np.random.randint(1, 11, size=(2, 2))\n",
    "b = np.random.randint(1, 11, size=(2, 2))\n",
    "print(\"a =\\n\", a)\n",
    "print(\"b =\\n\", b)\n",
    "print(\"a * b =\\n\", a*b)"
   ]
  },
  {
   "cell_type": "markdown",
   "id": "5a5faa37",
   "metadata": {},
   "source": [
    "### 13. Utwórz dwie macierze o rozmiarze 2x2, wypełnij je losowymi liczbami całkowitymi z zakresu od 1 do 10 i znajdź ich iloczyn."
   ]
  },
  {
   "cell_type": "code",
   "execution_count": 127,
   "id": "804a0fd6",
   "metadata": {},
   "outputs": [
    {
     "name": "stdout",
     "output_type": "stream",
     "text": [
      "a =\n",
      " [[10 10]\n",
      " [ 8  9]]\n",
      "b =\n",
      " [[1 4]\n",
      " [1 5]]\n",
      "a • b =\n",
      " [[20 90]\n",
      " [17 77]]\n"
     ]
    }
   ],
   "source": [
    "a = np.random.randint(1, 11, size=(2, 2))\n",
    "b = np.random.randint(1, 11, size=(2, 2))\n",
    "print(\"a =\\n\", a)\n",
    "print(\"b =\\n\", b)\n",
    "print(\"a • b =\\n\", np.dot(a, b))"
   ]
  },
  {
   "cell_type": "markdown",
   "id": "2599600f",
   "metadata": {},
   "source": [
    "### 14. Utwórz macierz 5x5, wypełnij ją losowymi liczbami całkowitymi z zakresu od 1 do 100 i znajdź sumę elementów macierzy."
   ]
  },
  {
   "cell_type": "code",
   "execution_count": 128,
   "id": "c4182afe",
   "metadata": {},
   "outputs": [
    {
     "name": "stdout",
     "output_type": "stream",
     "text": [
      "a =\n",
      " [[ 11  50  74  59   6]\n",
      " [ 25  97  69   1  18]\n",
      " [ 44  55   9  46  48]\n",
      " [ 84  99  62  19   8]\n",
      " [ 49  25  86 100  72]]\n",
      "The sum of the matrix elements: 1216\n"
     ]
    }
   ],
   "source": [
    "a = np.random.randint(1, 101, size=(5, 5))\n",
    "print(\"a =\\n\", a)\n",
    "print(\"The sum of the matrix elements:\", a.sum())"
   ]
  },
  {
   "cell_type": "markdown",
   "id": "3f623523",
   "metadata": {},
   "source": [
    "### 15. Utwórz dwie macierze o rozmiarze 4x4, wypełnij je losowymi liczbami całkowitymi z zakresu od 1 do 10 i znajdź ich różnicę."
   ]
  },
  {
   "cell_type": "code",
   "execution_count": 129,
   "id": "7efaee1f",
   "metadata": {},
   "outputs": [
    {
     "name": "stdout",
     "output_type": "stream",
     "text": [
      "a =\n",
      " [[ 6  2  6  3]\n",
      " [ 7  8  2  1]\n",
      " [ 9 10  4  6]\n",
      " [ 1  8  7  7]]\n",
      "b =\n",
      " [[ 4  3  6  9]\n",
      " [10  8  7  2]\n",
      " [ 1  4  1  1]\n",
      " [ 7  8  5  3]]\n",
      "a - b =\n",
      " [[ 2 -1  0 -6]\n",
      " [-3  0 -5 -1]\n",
      " [ 8  6  3  5]\n",
      " [-6  0  2  4]]\n"
     ]
    }
   ],
   "source": [
    "a = np.random.randint(1, 11, size=(4, 4))\n",
    "b = np.random.randint(1, 11, size=(4, 4))\n",
    "print(\"a =\\n\", a)\n",
    "print(\"b =\\n\", b)\n",
    "print(\"a - b =\\n\", a-b)"
   ]
  },
  {
   "cell_type": "markdown",
   "id": "090b690f",
   "metadata": {},
   "source": [
    "### 16. Utwórz macierz 3x3, wypełnij ją losowymi liczbami rzeczywistymi z zakresu od 0 do 1 i znajdź wektor kolumnowy zawierający sumę elementów każdego wiersza macierzy."
   ]
  },
  {
   "cell_type": "code",
   "execution_count": 130,
   "id": "8b4048b8",
   "metadata": {},
   "outputs": [
    {
     "name": "stdout",
     "output_type": "stream",
     "text": [
      "a =\n",
      " [[0.79068079 0.52810684 0.20694718]\n",
      " [0.72613422 0.10274709 0.40607371]\n",
      " [0.23152195 0.28996672 0.31449845]]\n",
      "A column vector containing the sum of the elements of each row of the matrix: \n",
      " [1.52573482 1.23495502 0.83598712]\n",
      "The dimension of this vector is: (3,)\n"
     ]
    }
   ],
   "source": [
    "a = np.random.random((3, 3))\n",
    "print(\"a =\\n\", a)\n",
    "b = a[:, 0] + a[:, 1] + a[:, 2]\n",
    "print(\"A column vector containing the sum of the elements of each row of the matrix: \\n\", b)\n",
    "print(\"The dimension of this vector is:\", b.shape)"
   ]
  },
  {
   "cell_type": "markdown",
   "id": "1378805b",
   "metadata": {},
   "source": [
    "### 17. Utwórz macierz o rozmiarze 3x4 z dowolnymi liczbami całkowitymi i utwórz macierz z kwadratami tych liczb."
   ]
  },
  {
   "cell_type": "code",
   "execution_count": 131,
   "id": "c29e25c5",
   "metadata": {},
   "outputs": [
    {
     "name": "stdout",
     "output_type": "stream",
     "text": [
      "a =\n",
      " [[99  9  5 44]\n",
      " [73  0 50 40]\n",
      " [71 16 72 35]]\n",
      "A matrix with the squares of these numbers: \n",
      " [[9801   81   25 1936]\n",
      " [5329    0 2500 1600]\n",
      " [5041  256 5184 1225]]\n"
     ]
    }
   ],
   "source": [
    "a = np.random.randint(100, size=(3, 4))\n",
    "print(\"a =\\n\", a)\n",
    "print(\"A matrix with the squares of these numbers: \\n\", np.power(a, 2))"
   ]
  },
  {
   "cell_type": "markdown",
   "id": "499c03d1",
   "metadata": {},
   "source": [
    "### 18. Utwórz wektor o rozmiarze 4, wypełnij go losowymi liczbami całkowitymi z zakresu od 1 do 50 i znajdź wektor pierwiastków kwadratowych z tych liczb."
   ]
  },
  {
   "cell_type": "code",
   "execution_count": 132,
   "id": "94495fc4",
   "metadata": {},
   "outputs": [
    {
     "name": "stdout",
     "output_type": "stream",
     "text": [
      "a = [45 33  1 11]\n",
      "The vector of square roots of these numbers: \n",
      " [6.70820393 5.74456265 1.         3.31662479]\n"
     ]
    }
   ],
   "source": [
    "a = np.random.randint(1, 51, size=4)\n",
    "print(\"a =\", a)\n",
    "print(\"The vector of square roots of these numbers: \\n\", np.sqrt(a))"
   ]
  }
 ],
 "metadata": {
  "kernelspec": {
   "display_name": "Python 3 (ipykernel)",
   "language": "python",
   "name": "python3"
  },
  "language_info": {
   "codemirror_mode": {
    "name": "ipython",
    "version": 3
   },
   "file_extension": ".py",
   "mimetype": "text/x-python",
   "name": "python",
   "nbconvert_exporter": "python",
   "pygments_lexer": "ipython3",
   "version": "3.11.8"
  }
 },
 "nbformat": 4,
 "nbformat_minor": 5
}
